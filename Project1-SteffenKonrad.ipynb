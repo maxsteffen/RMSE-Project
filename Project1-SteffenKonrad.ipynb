{
  "cells": [
    {
      "cell_type": "markdown",
      "metadata": {
        "id": "jRbuIIjtMMFj"
      },
      "source": [
        "# COSC 4610/5610 Project 1 (spring 2022)\n",
        "\n",
        "**Team members**: Jake Konrad, Max Steffen\n",
        "jacob.konrad@marquette.edu, maxwell.steffen@marquette.edu\n",
        "\n",
        "**Submission.** Please insert your names and emails above, save your code in this notebook, and explain what you are doing along with your findings in text cells. You can think of it as a technical report with code. Before submission, please use `Kernel -> Restart & Run All` in the Jupyter menu to verify your code is runnable and save all outputs. Afterwards, you can upload your raw notebook. \n",
        "\n",
        "\n",
        "In this project, we will practice with data cleaning and transformation methods on the California house sales data and check their effects on the price prediction model. The model training and the evaluation code will be given. Your job is to try different data pre-processing methods to obtain the best root mean squared logarithmic error (RMSLE) on the test dataset.\n",
        "\n",
        "\n",
        "### Python 3 on Linux (Ubuntu and WSL)\n",
        "If you need to install Python 3 in Ubuntu (and WSL), you can follow the steps\n",
        "1. Start by updating the packages list and installing the prerequisites:\n",
        "\n",
        "`sudo apt update`\n",
        "\n",
        "`sudo apt install software-properties-common`\n",
        "\n",
        "2. Next, add the deadsnakes PPA to your sources list:\n",
        "\n",
        "`sudo add-apt-repository ppa:deadsnakes/ppa`\n",
        "\n",
        "When prompted press Enter to continue:\n",
        "\n",
        "Press [ENTER] to continue or Ctrl-c to cancel adding it.Copy\n",
        "\n",
        "3. Once the repository is enabled, install, e.g., Python 3.9 with:\n",
        "\n",
        "`sudo apt install python3.9`\n",
        "\n",
        "If you are using Windows, you want to set up the WSL first (https://docs.microsoft.com/en-us/windows/wsl/install), install Python 3.9, and then run the jupyter server with the command `jupyter notebook --no-browser`. \n",
        "\n",
        "### Python 3 on Mac\n",
        "Run the command `brew install python@3.9`. The binary should be on /usr/local/opt/python@3.9/bin/python3.9\n",
        "\n",
        "\n",
        "### Virtualenv for multiple versions of Python\n",
        "If you are using Linux (or WSL) and Mac with multiple versions of Python, the following method allows you to set up an isolated virtual environment, which does not interfere with your existing Python setups. \n",
        "\n",
        "1. run `python3 -m venv py39` to install the tool virtualenv. py39 is the directory that holds all packages specific to the virtual environment. You can choose whatever name you like.\n",
        "\n",
        "2. run `source py39/bin/activate` to activate the py39 environment. You will see (py39) shows up in your command line prompt. You can run `deactivate` later to exit the virtual environment\n",
        "\n",
        "3. after the virtual environment is activiated, install the necessary packages: `pip3 install notebook numpy pandas matplotlib`\n",
        "\n",
        "4. run `jupyter notebook` and you are ready to use the python 3.9 environment and the installed packages in Jupyter.\n",
        "\n",
        "\n",
        "\n",
        "\n",
        "## Prepare Data \n",
        "\n",
        "Download the data from http://www.cs.mu.edu/~keke/dm/data/house_sales.ftr. Note that we use the [`feather` format](https://arrow.apache.org/docs/python/feather.html), which is faster to read than CSV but uses more disk space. \n",
        "The following code needs at least 2GB memory. If using a local runtime, please make sure your machine has enough memory. "
      ]
    },
    {
      "cell_type": "code",
      "source": [
        "from google.colab import files\n",
        "uploads = files.upload()"
      ],
      "metadata": {
        "id": "WW5TCIz9r0PT",
        "outputId": "e1a334ef-e3b3-499f-f12f-64b55abd6ec6",
        "colab": {
          "base_uri": "https://localhost:8080/",
          "height": 38
        }
      },
      "execution_count": 235,
      "outputs": [
        {
          "output_type": "display_data",
          "data": {
            "text/plain": [
              "<IPython.core.display.HTML object>"
            ],
            "text/html": [
              "\n",
              "     <input type=\"file\" id=\"files-b24bbbd7-3cce-4fc1-bb72-bb4a39985fed\" name=\"files[]\" multiple disabled\n",
              "        style=\"border:none\" />\n",
              "     <output id=\"result-b24bbbd7-3cce-4fc1-bb72-bb4a39985fed\">\n",
              "      Upload widget is only available when the cell has been executed in the\n",
              "      current browser session. Please rerun this cell to enable.\n",
              "      </output>\n",
              "      <script>// Copyright 2017 Google LLC\n",
              "//\n",
              "// Licensed under the Apache License, Version 2.0 (the \"License\");\n",
              "// you may not use this file except in compliance with the License.\n",
              "// You may obtain a copy of the License at\n",
              "//\n",
              "//      http://www.apache.org/licenses/LICENSE-2.0\n",
              "//\n",
              "// Unless required by applicable law or agreed to in writing, software\n",
              "// distributed under the License is distributed on an \"AS IS\" BASIS,\n",
              "// WITHOUT WARRANTIES OR CONDITIONS OF ANY KIND, either express or implied.\n",
              "// See the License for the specific language governing permissions and\n",
              "// limitations under the License.\n",
              "\n",
              "/**\n",
              " * @fileoverview Helpers for google.colab Python module.\n",
              " */\n",
              "(function(scope) {\n",
              "function span(text, styleAttributes = {}) {\n",
              "  const element = document.createElement('span');\n",
              "  element.textContent = text;\n",
              "  for (const key of Object.keys(styleAttributes)) {\n",
              "    element.style[key] = styleAttributes[key];\n",
              "  }\n",
              "  return element;\n",
              "}\n",
              "\n",
              "// Max number of bytes which will be uploaded at a time.\n",
              "const MAX_PAYLOAD_SIZE = 100 * 1024;\n",
              "\n",
              "function _uploadFiles(inputId, outputId) {\n",
              "  const steps = uploadFilesStep(inputId, outputId);\n",
              "  const outputElement = document.getElementById(outputId);\n",
              "  // Cache steps on the outputElement to make it available for the next call\n",
              "  // to uploadFilesContinue from Python.\n",
              "  outputElement.steps = steps;\n",
              "\n",
              "  return _uploadFilesContinue(outputId);\n",
              "}\n",
              "\n",
              "// This is roughly an async generator (not supported in the browser yet),\n",
              "// where there are multiple asynchronous steps and the Python side is going\n",
              "// to poll for completion of each step.\n",
              "// This uses a Promise to block the python side on completion of each step,\n",
              "// then passes the result of the previous step as the input to the next step.\n",
              "function _uploadFilesContinue(outputId) {\n",
              "  const outputElement = document.getElementById(outputId);\n",
              "  const steps = outputElement.steps;\n",
              "\n",
              "  const next = steps.next(outputElement.lastPromiseValue);\n",
              "  return Promise.resolve(next.value.promise).then((value) => {\n",
              "    // Cache the last promise value to make it available to the next\n",
              "    // step of the generator.\n",
              "    outputElement.lastPromiseValue = value;\n",
              "    return next.value.response;\n",
              "  });\n",
              "}\n",
              "\n",
              "/**\n",
              " * Generator function which is called between each async step of the upload\n",
              " * process.\n",
              " * @param {string} inputId Element ID of the input file picker element.\n",
              " * @param {string} outputId Element ID of the output display.\n",
              " * @return {!Iterable<!Object>} Iterable of next steps.\n",
              " */\n",
              "function* uploadFilesStep(inputId, outputId) {\n",
              "  const inputElement = document.getElementById(inputId);\n",
              "  inputElement.disabled = false;\n",
              "\n",
              "  const outputElement = document.getElementById(outputId);\n",
              "  outputElement.innerHTML = '';\n",
              "\n",
              "  const pickedPromise = new Promise((resolve) => {\n",
              "    inputElement.addEventListener('change', (e) => {\n",
              "      resolve(e.target.files);\n",
              "    });\n",
              "  });\n",
              "\n",
              "  const cancel = document.createElement('button');\n",
              "  inputElement.parentElement.appendChild(cancel);\n",
              "  cancel.textContent = 'Cancel upload';\n",
              "  const cancelPromise = new Promise((resolve) => {\n",
              "    cancel.onclick = () => {\n",
              "      resolve(null);\n",
              "    };\n",
              "  });\n",
              "\n",
              "  // Wait for the user to pick the files.\n",
              "  const files = yield {\n",
              "    promise: Promise.race([pickedPromise, cancelPromise]),\n",
              "    response: {\n",
              "      action: 'starting',\n",
              "    }\n",
              "  };\n",
              "\n",
              "  cancel.remove();\n",
              "\n",
              "  // Disable the input element since further picks are not allowed.\n",
              "  inputElement.disabled = true;\n",
              "\n",
              "  if (!files) {\n",
              "    return {\n",
              "      response: {\n",
              "        action: 'complete',\n",
              "      }\n",
              "    };\n",
              "  }\n",
              "\n",
              "  for (const file of files) {\n",
              "    const li = document.createElement('li');\n",
              "    li.append(span(file.name, {fontWeight: 'bold'}));\n",
              "    li.append(span(\n",
              "        `(${file.type || 'n/a'}) - ${file.size} bytes, ` +\n",
              "        `last modified: ${\n",
              "            file.lastModifiedDate ? file.lastModifiedDate.toLocaleDateString() :\n",
              "                                    'n/a'} - `));\n",
              "    const percent = span('0% done');\n",
              "    li.appendChild(percent);\n",
              "\n",
              "    outputElement.appendChild(li);\n",
              "\n",
              "    const fileDataPromise = new Promise((resolve) => {\n",
              "      const reader = new FileReader();\n",
              "      reader.onload = (e) => {\n",
              "        resolve(e.target.result);\n",
              "      };\n",
              "      reader.readAsArrayBuffer(file);\n",
              "    });\n",
              "    // Wait for the data to be ready.\n",
              "    let fileData = yield {\n",
              "      promise: fileDataPromise,\n",
              "      response: {\n",
              "        action: 'continue',\n",
              "      }\n",
              "    };\n",
              "\n",
              "    // Use a chunked sending to avoid message size limits. See b/62115660.\n",
              "    let position = 0;\n",
              "    do {\n",
              "      const length = Math.min(fileData.byteLength - position, MAX_PAYLOAD_SIZE);\n",
              "      const chunk = new Uint8Array(fileData, position, length);\n",
              "      position += length;\n",
              "\n",
              "      const base64 = btoa(String.fromCharCode.apply(null, chunk));\n",
              "      yield {\n",
              "        response: {\n",
              "          action: 'append',\n",
              "          file: file.name,\n",
              "          data: base64,\n",
              "        },\n",
              "      };\n",
              "\n",
              "      let percentDone = fileData.byteLength === 0 ?\n",
              "          100 :\n",
              "          Math.round((position / fileData.byteLength) * 100);\n",
              "      percent.textContent = `${percentDone}% done`;\n",
              "\n",
              "    } while (position < fileData.byteLength);\n",
              "  }\n",
              "\n",
              "  // All done.\n",
              "  yield {\n",
              "    response: {\n",
              "      action: 'complete',\n",
              "    }\n",
              "  };\n",
              "}\n",
              "\n",
              "scope.google = scope.google || {};\n",
              "scope.google.colab = scope.google.colab || {};\n",
              "scope.google.colab._files = {\n",
              "  _uploadFiles,\n",
              "  _uploadFilesContinue,\n",
              "};\n",
              "})(self);\n",
              "</script> "
            ]
          },
          "metadata": {}
        }
      ]
    },
    {
      "cell_type": "code",
      "source": [
        "from google.colab import drive\n",
        "drive.mount('/content/drive')"
      ],
      "metadata": {
        "id": "LB9GpCHNS9St",
        "colab": {
          "base_uri": "https://localhost:8080/"
        },
        "outputId": "fb9fbdf7-3a06-4fdf-ded9-2aec544e2439"
      },
      "execution_count": 236,
      "outputs": [
        {
          "output_type": "stream",
          "name": "stdout",
          "text": [
            "Drive already mounted at /content/drive; to attempt to forcibly remount, call drive.mount(\"/content/drive\", force_remount=True).\n"
          ]
        }
      ]
    },
    {
      "cell_type": "code",
      "execution_count": 237,
      "metadata": {
        "ExecuteTime": {
          "end_time": "2021-09-22T21:19:22.818413Z",
          "start_time": "2021-09-22T21:19:18.899437Z"
        },
        "id": "YpsTjkMaMMFk",
        "colab": {
          "base_uri": "https://localhost:8080/"
        },
        "outputId": "ed8b3adf-a81a-4289-c07f-13fdbbc33249"
      },
      "outputs": [
        {
          "output_type": "stream",
          "name": "stdout",
          "text": [
            "            Id                     Address   Sold Price   Sold On  \\\n",
            "0   2080183300             11205 Monterey,   $2,000,000  01/31/20   \n",
            "1     20926300             5281 Castle Rd,   $2,100,000  02/25/21   \n",
            "2     19595300            3581 Butcher Dr,   $1,125,000  11/06/19   \n",
            "3    300472200       2021 N Milpitas Blvd,  $36,250,000  10/02/20   \n",
            "4   2074492000   LOT 4 Tool Box Spring Rd,     $140,000  10/19/20   \n",
            "5   2080638900  4707 La Villa Mari UNIT J,   $1,301,000  02/24/21   \n",
            "6     19800000            7517 Deveron Ct,       $3,200  08/31/19   \n",
            "7     20635000              3025 E 8th St,     $300,000  11/06/19   \n",
            "8     20720300             1022 Manley Dr,     $795,000  01/30/21   \n",
            "9     19522800          229 Del Monte Ave,   $1,750,000  08/31/18   \n",
            "10    21438500           13821 Lanning Dr,     $556,000  01/13/21   \n",
            "11    19759500      1318 Joplin Dr UNIT 3,     $470,000  12/18/20   \n",
            "12    25182400           8155 Madison Ave,   $1,300,000  04/30/20   \n",
            "13  2097430400         539 Tyrella Ave #A,       $3,250  03/18/19   \n",
            "14    19477600       1145 Park Heights Dr,   $1,300,000  09/03/20   \n",
            "15   153222700   2151 Oakland Rd SPACE 85,     $118,000  08/14/20   \n",
            "16  2077064000           2643 Yardarm Ave,     $285,000  01/21/21   \n",
            "17    20497000           10451 Almayo Ave,   $3,200,000  11/22/19   \n",
            "18  2134449700           208 Lexington St,     $670,800  09/18/20   \n",
            "19    25425800            18171 Abbott Ln,   $1,900,000  12/15/20   \n",
            "\n",
            "                                              Summary                Type  \\\n",
            "0   11205 Monterey, San Martin, CA 95046 is a sing...        SingleFamily   \n",
            "1   Spectacular Mountain and incredible L.A. City ...        SingleFamily   \n",
            "2   Eichler Style home! with Santa Clara High! in ...        SingleFamily   \n",
            "3   2021 N Milpitas Blvd, Milpitas, CA 95035 is a ...           Apartment   \n",
            "4   Beautiful level lot  dotted with pine trees ro...          VacantLand   \n",
            "5   AGENTS READ PRIVATE REMARKS BEFORE CALLING;  S...           Townhouse   \n",
            "6   This lovely rental is located in the prestigio...           Apartment   \n",
            "7   3025 E 8th St, Los Angeles, CA 90023 is a sing...        SingleFamily   \n",
            "8   I'm gorgeous inside!!!  Beautifully remodeled ...        SingleFamily   \n",
            "9                                                None                None   \n",
            "10  THIS HOME OFFERS 3 BEDROOMS, 1 BATH, FIREPLACE...        SingleFamily   \n",
            "11  Welcome to 1318 Joplin Dr #3, San Jose. This u...               Condo   \n",
            "12  8155 Madison Ave, Midway City, CA 92655 is a s...        SingleFamily   \n",
            "13  539 Tyrella Ave #A, Mountain View, CA 94043 is...         MultiFamily   \n",
            "14  Location! Location! Location! The Must See!!! ...        SingleFamily   \n",
            "15  Located in the heart of Silicon Valley is this...  MobileManufactured   \n",
            "16  Newly remodeled starter home or investment con...               Condo   \n",
            "17  This fabulous 2019 Brand Newly Built Tradition...        SingleFamily   \n",
            "18  Bright and well-configured home in the heart o...        SingleFamily   \n",
            "19  Gorgeous entertaining home on cul de sac with ...        SingleFamily   \n",
            "\n",
            "   Year built                   Heating              Cooling  \\\n",
            "0     No Data                   No Data              No Data   \n",
            "1        1951                   Central    Central Air, Dual   \n",
            "2        1954  Central Forced Air - Gas           Central AC   \n",
            "3        1989                     Other              No Data   \n",
            "4     No Data                   No Data              No Data   \n",
            "5        1966                   Central                 None   \n",
            "6        1989           Forced air, Gas              Central   \n",
            "7        1922                      Wall  Wall/Window Unit(s)   \n",
            "8        1939                   Central          Central Air   \n",
            "9        None                      None                 None   \n",
            "10       1952                   No Data          See Remarks   \n",
            "11       1970                Forced Air                 None   \n",
            "12       1925                   No Data              No Data   \n",
            "13       1956                      Wall                 None   \n",
            "14       1962        Central Forced Air                Other   \n",
            "15       1973        Central Forced Air   Evaporative Cooler   \n",
            "16       1971                   No Data                 None   \n",
            "17       2019                   Central              Central   \n",
            "18       1907              Central, Gas              No Data   \n",
            "19       1971            Central, Solar          Central Air   \n",
            "\n",
            "                               Parking  ... Well Disclosure remodeled  DOH2  \\\n",
            "0                             0 spaces  ...            None      None  None   \n",
            "1           Driveway, Driveway - Brick  ...            None      None  None   \n",
            "2   Garage, Garage - Attached, Covered  ...            None      None  None   \n",
            "3                       Mixed, Covered  ...            None      None  None   \n",
            "4                             0 spaces  ...            None      None  None   \n",
            "5                    Garage - Attached  ...            None      None  None   \n",
            "6   Garage, Garage - Attached, Covered  ...            None      None  None   \n",
            "7                      Garage, Covered  ...            None      None  None   \n",
            "8                               Garage  ...            None      None  None   \n",
            "9                                 None  ...            None      None  None   \n",
            "10                              Garage  ...            None      None  None   \n",
            "11            Garage, Carport, Covered  ...            None      None  None   \n",
            "12  Garage, Garage - Attached, Covered  ...            None      None  None   \n",
            "13                             Covered  ...            None      None  None   \n",
            "14  Garage, Garage - Attached, Covered  ...            None      None  None   \n",
            "15                             Carport  ...            None      None  None   \n",
            "16                    Assigned, Garage  ...            None      None  None   \n",
            "17  Garage, Garage - Attached, Covered  ...            None      None  None   \n",
            "18                         Independent  ...            None      None  None   \n",
            "19     Direct Access, Driveway, Garage  ...            None      None  None   \n",
            "\n",
            "   SerialX Full Baths Tax Legal Lot Number Tax Legal Block Number  \\\n",
            "0     None       None                 None                   None   \n",
            "1     None       None                 None                   None   \n",
            "2     None       None                 None                   None   \n",
            "3     None       None                 None                   None   \n",
            "4     None       None                 None                   None   \n",
            "5     None       None                 None                   None   \n",
            "6     None       None                 None                   None   \n",
            "7     None       None                 None                   None   \n",
            "8     None       None                 None                   None   \n",
            "9     None       None                 None                   None   \n",
            "10    None       None                 None                   None   \n",
            "11    None       None                 None                   None   \n",
            "12    None       None                 None                   None   \n",
            "13    None       None                 None                   None   \n",
            "14    None       None                 None                   None   \n",
            "15    None       None                 None                   None   \n",
            "16    None       None                 None                   None   \n",
            "17    None       None                 None                   None   \n",
            "18    None       None                 None                   None   \n",
            "19    None       None                 None                   None   \n",
            "\n",
            "   Tax Legal Tract Number Building Name    Zip  \n",
            "0                    None          None  95046  \n",
            "1                    None          None  91011  \n",
            "2                    None          None  95051  \n",
            "3                    None          None  95035  \n",
            "4                    None          None  92561  \n",
            "5                    None          None  90292  \n",
            "6                    None          None  95135  \n",
            "7                    None          None  90023  \n",
            "8                    None          None  91776  \n",
            "9                    None          None  94022  \n",
            "10                   None          None  90605  \n",
            "11                   None          None  95118  \n",
            "12                   None          None  92655  \n",
            "13                   None          None  94043  \n",
            "14                   None          None  95035  \n",
            "15                   None          None  95131  \n",
            "16                   None          None  93041  \n",
            "17                   None          None  90064  \n",
            "18                   None          None  94110  \n",
            "19                   None          None  92861  \n",
            "\n",
            "[20 rows x 1789 columns]\n"
          ]
        }
      ],
      "source": [
        "# If the pacakges are not installed, run the following line once to install. You may need to restart your runtime afterwards:\n",
        "import pandas as pd\n",
        "import numpy as np\n",
        "\n",
        "data = pd.read_feather('house_sales.ftr')\n",
        "data.shape\n",
        "print(data.head(20))\n"
      ]
    },
    {
      "cell_type": "code",
      "source": [],
      "metadata": {
        "id": "XCSQnx81eRA2"
      },
      "execution_count": 237,
      "outputs": []
    },
    {
      "cell_type": "markdown",
      "metadata": {
        "id": "wlvsGd0AMMFl"
      },
      "source": [
        "We select a few columns to demonstrate. You need to select more columns to make your model more accurate. "
      ]
    },
    {
      "cell_type": "code",
      "execution_count": 238,
      "metadata": {
        "ExecuteTime": {
          "end_time": "2021-09-22T21:19:22.837345Z",
          "start_time": "2021-09-22T21:19:22.821365Z"
        },
        "id": "vMIZGUkiMMFl",
        "colab": {
          "base_uri": "https://localhost:8080/"
        },
        "outputId": "9dead09f-0e4d-4a49-b538-064b83696256"
      },
      "outputs": [
        {
          "output_type": "execute_result",
          "data": {
            "text/plain": [
              "Sold Price    object\n",
              "Sold On       object\n",
              "Type          object\n",
              "Year built    object\n",
              "Bedrooms      object\n",
              "dtype: object"
            ]
          },
          "metadata": {},
          "execution_count": 238
        }
      ],
      "source": [
        "# select a small number columns for demonstrating how to clean data and train models\n",
        "columns = ['Sold Price', 'Sold On', 'Type', 'Year built', 'Bedrooms']\n",
        "\n",
        "\n",
        "df = data[columns].copy()\n",
        "# uncomment the below line to save memory\n",
        "# del data\n",
        "df.dtypes"
      ]
    },
    {
      "cell_type": "markdown",
      "metadata": {
        "id": "M025p8ZOMMFl"
      },
      "source": [
        "Data type \"object\" is the initial type when data is loaded in. We want to convert each to numeric and remove missing values and errors.\n",
        "\n",
        "1. We convert `Sold Price` to numerical values, which is our prediction target. We also remove examples whose prices are too high or too low. For more examples, you can revisit the notebook https://www.cs.mu.edu/~keke/dm/house.ipynb."
      ]
    },
    {
      "cell_type": "code",
      "execution_count": 239,
      "metadata": {
        "ExecuteTime": {
          "end_time": "2021-09-22T21:19:23.275937Z",
          "start_time": "2021-09-22T21:19:22.838990Z"
        },
        "id": "QEtKW8aZMMFl"
      },
      "outputs": [],
      "source": [
        "\n",
        "c = 'Sold Price'\n",
        "if c in df.select_dtypes('object').columns:\n",
        "    df.loc[:,c] = np.log10(\n",
        "            pd.to_numeric(df[c].replace(r'[$,-]', '', regex=True)) + 1) # replace the $ signs\n",
        "    \n",
        "df = df[(df['Sold Price'] >= 4 ) & (df['Sold Price'] <= 8 )] # use the prices between 10^4 and 10^8 only\n"
      ]
    },
    {
      "cell_type": "markdown",
      "metadata": {
        "id": "dIhn9axa-xfW"
      },
      "source": [
        "2. Now handle \"Type\""
      ]
    },
    {
      "cell_type": "code",
      "execution_count": 240,
      "metadata": {
        "scrolled": true,
        "id": "VhP03Zgz-xfW",
        "colab": {
          "base_uri": "https://localhost:8080/"
        },
        "outputId": "9e3b3580-c27c-4985-b809-6bc889362955"
      },
      "outputs": [
        {
          "output_type": "execute_result",
          "data": {
            "text/plain": [
              "SingleFamily                                              100040\n",
              "Condo                                                      26666\n",
              "MultiFamily                                                 7189\n",
              "Townhouse                                                   6818\n",
              "Unknown                                                     5817\n",
              "                                                           ...  \n",
              "1 Level, Low-Rise (1-3), Unit Above, Ground Floor              1\n",
              "Detached, 3 Story, Full                                        1\n",
              "1 Level, Luxury, New Construction, Mid-Rise (4-8)              1\n",
              "1 Level, Luxury, Low-Rise (1-3), End Unit                      1\n",
              "Unit Below, Low-Rise (1-3), Full, Unit Above, Attached         1\n",
              "Name: Type, Length: 317, dtype: int64"
            ]
          },
          "metadata": {},
          "execution_count": 240
        }
      ],
      "source": [
        "df['Type'].value_counts()"
      ]
    },
    {
      "cell_type": "markdown",
      "metadata": {
        "id": "hZHsw_wh-xfX"
      },
      "source": [
        "Let's only use the first four types of houses"
      ]
    },
    {
      "cell_type": "code",
      "execution_count": 241,
      "metadata": {
        "id": "LEXrVchO-xfX",
        "colab": {
          "base_uri": "https://localhost:8080/"
        },
        "outputId": "d17744dc-bd53-4475-b6b6-e753e6b9d7ec"
      },
      "outputs": [
        {
          "output_type": "execute_result",
          "data": {
            "text/plain": [
              "SingleFamily    100040\n",
              "Condo            26666\n",
              "MultiFamily       7189\n",
              "Townhouse         6818\n",
              "Name: Type, dtype: int64"
            ]
          },
          "metadata": {},
          "execution_count": 241
        }
      ],
      "source": [
        "df = df[df['Type'].isin(['SingleFamily', 'Condo', 'MultiFamily', 'Townhouse'])]\n",
        "df['Type'].value_counts()"
      ]
    },
    {
      "cell_type": "code",
      "execution_count": 242,
      "metadata": {
        "id": "RhqVofOw-xfX",
        "colab": {
          "base_uri": "https://localhost:8080/"
        },
        "outputId": "59d9f17f-2b31-4f18-ec36-48f7234ba0b0"
      },
      "outputs": [
        {
          "output_type": "execute_result",
          "data": {
            "text/plain": [
              "2    100040\n",
              "0     26666\n",
              "1      7189\n",
              "3      6818\n",
              "Name: Type, dtype: int64"
            ]
          },
          "metadata": {},
          "execution_count": 242
        }
      ],
      "source": [
        "# convert to categorical and then conver to integers\n",
        "df['Type'] = df['Type'].astype('category').cat.codes\n",
        "df['Type'].value_counts()"
      ]
    },
    {
      "cell_type": "code",
      "execution_count": 243,
      "metadata": {
        "scrolled": true,
        "id": "F0YS_R1z-xfY",
        "colab": {
          "base_uri": "https://localhost:8080/"
        },
        "outputId": "3babd665-c9a6-4d1d-9e43-7772626f57de"
      },
      "outputs": [
        {
          "output_type": "execute_result",
          "data": {
            "text/plain": [
              "No Data    5821\n",
              "1973       2212\n",
              "2018       2161\n",
              "1950       2096\n",
              "2006       1959\n",
              "           ... \n",
              "1650          1\n",
              "1862          1\n",
              "19            1\n",
              "1571          1\n",
              "1471          1\n",
              "Name: Year built, Length: 180, dtype: int64"
            ]
          },
          "metadata": {},
          "execution_count": 243
        }
      ],
      "source": [
        "# 3. handle \"Year built\"\n",
        "df['Year built'].value_counts()"
      ]
    },
    {
      "cell_type": "code",
      "execution_count": 244,
      "metadata": {
        "scrolled": true,
        "id": "Ok3XvA4Y-xfY",
        "colab": {
          "base_uri": "https://localhost:8080/"
        },
        "outputId": "f9d7c309-937e-4964-9bca-95c4ab6cc6cc"
      },
      "outputs": [
        {
          "output_type": "execute_result",
          "data": {
            "text/plain": [
              "1973    2212\n",
              "2018    2161\n",
              "1950    2096\n",
              "2006    1959\n",
              "1955    1956\n",
              "        ... \n",
              "1917     184\n",
              "1903     168\n",
              "1901     141\n",
              "1902     140\n",
              "2021      98\n",
              "Name: Year built, Length: 121, dtype: int64"
            ]
          },
          "metadata": {},
          "execution_count": 244
        }
      ],
      "source": [
        "#remove \"No Data\"\n",
        "df = df[df['Year built'] != 'No Data']\n",
        "df['Year built'] = df['Year built'].astype('int')\n",
        "# get rid of too old or irregular value \n",
        "df = df[(df['Year built']>1900)  & (df['Year built'] < 2023)]\n",
        "df['Year built'].value_counts()"
      ]
    },
    {
      "cell_type": "code",
      "execution_count": 245,
      "metadata": {
        "scrolled": true,
        "id": "nVa05ev5-xfZ",
        "colab": {
          "base_uri": "https://localhost:8080/"
        },
        "outputId": "29696386-6ddd-450d-f07b-3f1b847f3a73"
      },
      "outputs": [
        {
          "output_type": "execute_result",
          "data": {
            "text/plain": [
              "3                                                                                                                                                                    45514\n",
              "2                                                                                                                                                                    28586\n",
              "4                                                                                                                                                                    23194\n",
              "1                                                                                                                                                                     6966\n",
              "5                                                                                                                                                                     6801\n",
              "                                                                                                                                                                     ...  \n",
              "Ground Floor Bedroom, Master Bedroom on Ground Floor, More than One Master Bedroom, Master Suite / Retreate - 2+                                                         1\n",
              "Ground Floor Bedroom, Master Suite / Retreat, More than One Master Bedroom on Ground Floor                                                                               1\n",
              "Ground Floor Bedroom, Loft Bedroom, Master Bedroom on Ground Floor, More than One Bedroom on Ground Floor, Walk-in Closet                                                1\n",
              "Inverted Floor Plan, Master Bedroom on Ground Floor, More than One Master Bedroom on Ground Floor                                                                        1\n",
              "Master Bedroom on Ground Floor, More than One Bedroom on Ground Floor, Walk-in Closet, More than One Master Bedroom, More than One Master Bedroom on Ground Floor        1\n",
              "Name: Bedrooms, Length: 366, dtype: int64"
            ]
          },
          "metadata": {},
          "execution_count": 245
        }
      ],
      "source": [
        "#4. handle \"Bedrooms\"\n",
        "df['Bedrooms'].value_counts()"
      ]
    },
    {
      "cell_type": "code",
      "execution_count": 246,
      "metadata": {
        "id": "eY80E5pw-xfZ",
        "colab": {
          "base_uri": "https://localhost:8080/"
        },
        "outputId": "7f299052-51b2-470e-d266-6cbc1337491a"
      },
      "outputs": [
        {
          "output_type": "execute_result",
          "data": {
            "text/plain": [
              "3     45514\n",
              "2     28586\n",
              "4     23194\n",
              "1      6966\n",
              "5      6801\n",
              "6      1723\n",
              "0      1200\n",
              "7       469\n",
              "8       367\n",
              "10      144\n",
              "9       127\n",
              "Name: Bedrooms, dtype: int64"
            ]
          },
          "metadata": {},
          "execution_count": 246
        }
      ],
      "source": [
        "# we see a lot of noises; let's keep only the reasonable ones[0, 10] bedrooms\n",
        "df  = df[df['Bedrooms'].isin([str(i) for i in range(11)])]\n",
        "df['Bedrooms'] = df['Bedrooms'].astype('int')\n",
        "df['Bedrooms'].value_counts()"
      ]
    },
    {
      "cell_type": "code",
      "execution_count": 247,
      "metadata": {
        "id": "JdhQwyfr-xfa",
        "colab": {
          "base_uri": "https://localhost:8080/"
        },
        "outputId": "54b5e4fa-b26b-40d2-c4b9-d4cb3fd0205c"
      },
      "outputs": [
        {
          "output_type": "execute_result",
          "data": {
            "text/plain": [
              "(115091, 5)"
            ]
          },
          "metadata": {},
          "execution_count": 247
        }
      ],
      "source": [
        "df.shape # the number examples left so far"
      ]
    },
    {
      "cell_type": "markdown",
      "metadata": {
        "id": "GwS6XYWAMMFm"
      },
      "source": [
        "We use the house sales between 2021-2-15 and 2021-3-1 as our test data. You can use any example before 2021-2-15 for training, but not after. In other words, we pretend we are launching our model on 2021-2-15 and testing it for 2 weeks. Here we only use sales in 2021 for fast training.  "
      ]
    },
    {
      "cell_type": "code",
      "execution_count": 248,
      "metadata": {
        "ExecuteTime": {
          "end_time": "2021-09-22T21:19:57.603573Z",
          "start_time": "2021-09-22T21:19:57.487636Z"
        },
        "id": "8HA0DTInMMFm",
        "scrolled": false
      },
      "outputs": [],
      "source": [
        "\n",
        "# split_data function can be used later before run modeling\n",
        "def split_data(df, train_timestamp):\n",
        "    # you can change the train_timestamp to include more training\n",
        "    test_start, test_end = pd.Timestamp(2021, 2, 15), pd.Timestamp(2021, 3, 1)\n",
        "    train_start = train_timestamp  \n",
        "    df['Sold On'] = pd.to_datetime(df['Sold On'], errors='coerce')\n",
        "    train = df[(df['Sold On'] >= train_start) & (df['Sold On'] < test_start)]\n",
        "    test = df[(df['Sold On'] >= test_start) & (df['Sold On'] < test_end)]\n",
        "    return train, test\n",
        "\n",
        "# the following sample code include only 2021 data for training \n",
        "#train, test = split_data(df, pd.Timestamp(2021, 1, 1))\n",
        "#train.shape, test.shape\n"
      ]
    },
    {
      "cell_type": "code",
      "execution_count": 249,
      "metadata": {
        "scrolled": true,
        "id": "xgupyAfs-xfb"
      },
      "outputs": [],
      "source": [
        "\n",
        "# target is always \"Sold Price\"\n",
        "# if you want to include more features, include them in the beginning and perform appropriate preprocessing.\n",
        "# you can call the function prepare_train_test in your code\n",
        "\n",
        "def prepare_train_test(train, test, features):\n",
        "    target = \"Sold Price\"\n",
        "    X_train = train.loc[:, features ]\n",
        "    y_train = train.loc[:, [target]]\n",
        "    X_test = test.loc[:, features]\n",
        "    y_test = test.loc[:, [target]]\n",
        "    return X_train, y_train, X_test, y_test\n",
        "\n",
        "# for the demo program, we use only three features so far\n",
        "features = [\"Type\", \"Year built\", 'Bedrooms'] \n",
        "#X_train, y_train, X_test, y_test = prepare_train_test(train, test, features)\n"
      ]
    },
    {
      "cell_type": "markdown",
      "metadata": {
        "id": "zvC3p5Xx-xfb"
      },
      "source": [
        "## Regression Baseline\n",
        "\n",
        "We compute the baseline model with a gradient boosting regressor (GBM), which is a non-linear regression method. The specific implementation is called LightGBM. Details of modeling methods will be covered in later lectures. Thus, now we recommend that you reuse the following \"modeling\" function so that you can focus on data preprocessing. \n",
        "\n",
        "We use the root mean squared error (RMSE) to represent the prediction quality. With the few features, the baseline RMSE is around 0.26. We want to smaller RMSE as possible."
      ]
    },
    {
      "cell_type": "code",
      "execution_count": 250,
      "metadata": {
        "id": "fXFkQrUUMMFn"
      },
      "outputs": [],
      "source": [
        "from sklearn.metrics import mean_squared_error\n",
        "from sklearn.model_selection import GridSearchCV\n",
        "\n",
        "import lightgbm as lgb\n",
        "\n",
        "# define modeling function can be used later\n",
        "def modeling (x_train, y_train, x_test, y_test):\n",
        "    # training and test data as input\n",
        "    print('Starting training...')\n",
        "    # train\n",
        "    gbm = lgb.LGBMRegressor(num_leaves=31,\n",
        "                        learning_rate=0.05,\n",
        "                        n_estimators=100)\n",
        "    gbm.fit(x_train, y_train,\n",
        "        eval_set=[(x_test, y_test)],\n",
        "        eval_metric='l2',\n",
        "        callbacks=[lgb.early_stopping(5)])\n",
        "\n",
        "    print('Starting predicting...')\n",
        "    # predict\n",
        "    y_pred = gbm.predict(x_test, num_iteration=gbm.best_iteration_)\n",
        "    # eval\n",
        "    # use root mean squared error (RMSE)\n",
        "    rmse_test = mean_squared_error(y_test, y_pred) ** 0.5\n",
        "    print(f'The RMSE of prediction is: {rmse_test}')\n",
        "    return gbm\n"
      ]
    },
    {
      "cell_type": "code",
      "execution_count": 251,
      "metadata": {
        "id": "Zy2xjyAz-xfc",
        "colab": {
          "base_uri": "https://localhost:8080/"
        },
        "outputId": "4dbe2014-4aff-456a-d788-f7179c14d19b"
      },
      "outputs": [
        {
          "output_type": "stream",
          "name": "stdout",
          "text": [
            "Starting training...\n",
            "[1]\tvalid_0's l2: 0.0847723\tvalid_0's l2: 0.0847723\n",
            "Training until validation scores don't improve for 5 rounds.\n",
            "[2]\tvalid_0's l2: 0.0831737\tvalid_0's l2: 0.0831737\n",
            "[3]\tvalid_0's l2: 0.0817374\tvalid_0's l2: 0.0817374\n",
            "[4]\tvalid_0's l2: 0.0804391\tvalid_0's l2: 0.0804391\n",
            "[5]\tvalid_0's l2: 0.079246\tvalid_0's l2: 0.079246\n",
            "[6]\tvalid_0's l2: 0.0781672\tvalid_0's l2: 0.0781672\n",
            "[7]\tvalid_0's l2: 0.0771731\tvalid_0's l2: 0.0771731\n",
            "[8]\tvalid_0's l2: 0.0762974\tvalid_0's l2: 0.0762974\n",
            "[9]\tvalid_0's l2: 0.0754931\tvalid_0's l2: 0.0754931\n",
            "[10]\tvalid_0's l2: 0.0747553\tvalid_0's l2: 0.0747553\n",
            "[11]\tvalid_0's l2: 0.07411\tvalid_0's l2: 0.07411\n",
            "[12]\tvalid_0's l2: 0.0735063\tvalid_0's l2: 0.0735063\n",
            "[13]\tvalid_0's l2: 0.0729728\tvalid_0's l2: 0.0729728\n",
            "[14]\tvalid_0's l2: 0.0724833\tvalid_0's l2: 0.0724833\n",
            "[15]\tvalid_0's l2: 0.0720351\tvalid_0's l2: 0.0720351\n",
            "[16]\tvalid_0's l2: 0.0716198\tvalid_0's l2: 0.0716198\n",
            "[17]\tvalid_0's l2: 0.0712279\tvalid_0's l2: 0.0712279\n",
            "[18]\tvalid_0's l2: 0.0708709\tvalid_0's l2: 0.0708709\n",
            "[19]\tvalid_0's l2: 0.0705667\tvalid_0's l2: 0.0705667\n",
            "[20]\tvalid_0's l2: 0.0702683\tvalid_0's l2: 0.0702683\n",
            "[21]\tvalid_0's l2: 0.0700242\tvalid_0's l2: 0.0700242\n",
            "[22]\tvalid_0's l2: 0.0697808\tvalid_0's l2: 0.0697808\n",
            "[23]\tvalid_0's l2: 0.0695655\tvalid_0's l2: 0.0695655\n",
            "[24]\tvalid_0's l2: 0.0693526\tvalid_0's l2: 0.0693526\n",
            "[25]\tvalid_0's l2: 0.0691833\tvalid_0's l2: 0.0691833\n",
            "[26]\tvalid_0's l2: 0.0690141\tvalid_0's l2: 0.0690141\n",
            "[27]\tvalid_0's l2: 0.0688588\tvalid_0's l2: 0.0688588\n",
            "[28]\tvalid_0's l2: 0.0687233\tvalid_0's l2: 0.0687233\n",
            "[29]\tvalid_0's l2: 0.0685985\tvalid_0's l2: 0.0685985\n",
            "[30]\tvalid_0's l2: 0.068487\tvalid_0's l2: 0.068487\n",
            "[31]\tvalid_0's l2: 0.0683841\tvalid_0's l2: 0.0683841\n",
            "[32]\tvalid_0's l2: 0.068278\tvalid_0's l2: 0.068278\n",
            "[33]\tvalid_0's l2: 0.0681811\tvalid_0's l2: 0.0681811\n",
            "[34]\tvalid_0's l2: 0.0681077\tvalid_0's l2: 0.0681077\n",
            "[35]\tvalid_0's l2: 0.0680282\tvalid_0's l2: 0.0680282\n",
            "[36]\tvalid_0's l2: 0.0679553\tvalid_0's l2: 0.0679553\n",
            "[37]\tvalid_0's l2: 0.0678997\tvalid_0's l2: 0.0678997\n",
            "[38]\tvalid_0's l2: 0.0678449\tvalid_0's l2: 0.0678449\n",
            "[39]\tvalid_0's l2: 0.0678011\tvalid_0's l2: 0.0678011\n",
            "[40]\tvalid_0's l2: 0.0677509\tvalid_0's l2: 0.0677509\n",
            "[41]\tvalid_0's l2: 0.0677114\tvalid_0's l2: 0.0677114\n",
            "[42]\tvalid_0's l2: 0.0676702\tvalid_0's l2: 0.0676702\n",
            "[43]\tvalid_0's l2: 0.0676381\tvalid_0's l2: 0.0676381\n",
            "[44]\tvalid_0's l2: 0.067604\tvalid_0's l2: 0.067604\n",
            "[45]\tvalid_0's l2: 0.0675649\tvalid_0's l2: 0.0675649\n",
            "[46]\tvalid_0's l2: 0.067541\tvalid_0's l2: 0.067541\n",
            "[47]\tvalid_0's l2: 0.0675209\tvalid_0's l2: 0.0675209\n",
            "[48]\tvalid_0's l2: 0.0674884\tvalid_0's l2: 0.0674884\n",
            "[49]\tvalid_0's l2: 0.0674744\tvalid_0's l2: 0.0674744\n",
            "[50]\tvalid_0's l2: 0.0674394\tvalid_0's l2: 0.0674394\n",
            "[51]\tvalid_0's l2: 0.0674174\tvalid_0's l2: 0.0674174\n",
            "[52]\tvalid_0's l2: 0.0673994\tvalid_0's l2: 0.0673994\n",
            "[53]\tvalid_0's l2: 0.0673872\tvalid_0's l2: 0.0673872\n",
            "[54]\tvalid_0's l2: 0.0673776\tvalid_0's l2: 0.0673776\n",
            "[55]\tvalid_0's l2: 0.0673554\tvalid_0's l2: 0.0673554\n",
            "[56]\tvalid_0's l2: 0.0673519\tvalid_0's l2: 0.0673519\n",
            "[57]\tvalid_0's l2: 0.0673446\tvalid_0's l2: 0.0673446\n",
            "[58]\tvalid_0's l2: 0.0673298\tvalid_0's l2: 0.0673298\n",
            "[59]\tvalid_0's l2: 0.0673369\tvalid_0's l2: 0.0673369\n",
            "[60]\tvalid_0's l2: 0.0673337\tvalid_0's l2: 0.0673337\n",
            "[61]\tvalid_0's l2: 0.0673347\tvalid_0's l2: 0.0673347\n",
            "[62]\tvalid_0's l2: 0.0673354\tvalid_0's l2: 0.0673354\n",
            "[63]\tvalid_0's l2: 0.0673173\tvalid_0's l2: 0.0673173\n",
            "[64]\tvalid_0's l2: 0.0673143\tvalid_0's l2: 0.0673143\n",
            "[65]\tvalid_0's l2: 0.0672992\tvalid_0's l2: 0.0672992\n",
            "[66]\tvalid_0's l2: 0.067303\tvalid_0's l2: 0.067303\n",
            "[67]\tvalid_0's l2: 0.0672883\tvalid_0's l2: 0.0672883\n",
            "[68]\tvalid_0's l2: 0.0672821\tvalid_0's l2: 0.0672821\n",
            "[69]\tvalid_0's l2: 0.0672794\tvalid_0's l2: 0.0672794\n",
            "[70]\tvalid_0's l2: 0.0672771\tvalid_0's l2: 0.0672771\n",
            "[71]\tvalid_0's l2: 0.0672752\tvalid_0's l2: 0.0672752\n",
            "[72]\tvalid_0's l2: 0.0672666\tvalid_0's l2: 0.0672666\n",
            "[73]\tvalid_0's l2: 0.067261\tvalid_0's l2: 0.067261\n",
            "[74]\tvalid_0's l2: 0.0672593\tvalid_0's l2: 0.0672593\n",
            "[75]\tvalid_0's l2: 0.0672615\tvalid_0's l2: 0.0672615\n",
            "[76]\tvalid_0's l2: 0.0672514\tvalid_0's l2: 0.0672514\n",
            "[77]\tvalid_0's l2: 0.067247\tvalid_0's l2: 0.067247\n",
            "[78]\tvalid_0's l2: 0.067259\tvalid_0's l2: 0.067259\n",
            "[79]\tvalid_0's l2: 0.0672568\tvalid_0's l2: 0.0672568\n",
            "[80]\tvalid_0's l2: 0.0672671\tvalid_0's l2: 0.0672671\n",
            "[81]\tvalid_0's l2: 0.0672604\tvalid_0's l2: 0.0672604\n",
            "[82]\tvalid_0's l2: 0.0672741\tvalid_0's l2: 0.0672741\n",
            "Early stopping, best iteration is:\n",
            "[77]\tvalid_0's l2: 0.067247\tvalid_0's l2: 0.067247\n",
            "Starting predicting...\n",
            "The RMSE of prediction is: 0.25932023967250384\n"
          ]
        }
      ],
      "source": [
        "\n",
        "# get the training and testing split\n",
        "train, test = split_data(df, pd.Timestamp(2021, 1, 1))\n",
        "\n",
        "# use the selected features\n",
        "features = [\"Type\", \"Year built\", 'Bedrooms'] \n",
        "X_train, y_train, X_test, y_test = prepare_train_test(train, test, features)\n",
        "\n",
        "# run modeling\n",
        "predictor = modeling(X_train, y_train, X_test, y_test)"
      ]
    },
    {
      "cell_type": "markdown",
      "metadata": {
        "id": "c1c0cM3QMMFo"
      },
      "source": [
        "Next, we compute the importance of each feature, along with several other metrics. It loooks like the `Sold On` feature is not very useful, likely because the houses in the test data were all sold late. You can choose to either remove such a feature, or find a way to extract a more useful presentation from it."
      ]
    },
    {
      "cell_type": "code",
      "execution_count": 252,
      "metadata": {
        "id": "ifaf1WNE-xfd",
        "colab": {
          "base_uri": "https://localhost:8080/",
          "height": 312
        },
        "outputId": "09f7bea7-e567-482a-ffe9-db730bca09bd"
      },
      "outputs": [
        {
          "output_type": "execute_result",
          "data": {
            "text/plain": [
              "<matplotlib.axes._subplots.AxesSubplot at 0x7f15ba3e3dc0>"
            ]
          },
          "metadata": {},
          "execution_count": 252
        },
        {
          "output_type": "display_data",
          "data": {
            "text/plain": [
              "<Figure size 432x288 with 1 Axes>"
            ],
            "image/png": "[encoded data removed]"
          },
          "metadata": {
            "needs_background": "light"
          }
        }
      ],
      "source": [
        "lgb.plot_importance(predictor)"
      ]
    },
    {
      "cell_type": "markdown",
      "metadata": {
        "ExecuteTime": {
          "end_time": "2021-09-21T17:10:23.648923Z",
          "start_time": "2021-09-21T17:10:16.162130Z"
        },
        "id": "abfuZLOWMMFo"
      },
      "source": [
        "## Your Tasks\n",
        "\n",
        "Your goal is to train a model using the features in the original dataset that minimizes the RMSE on the validation dataset. While the naïve model achieves an RMS of ~0.26, it is possible to achieve an error of less than 0.08 on the same dataset (extra credit: +5, if you can find a VALID model with RMSE <0.1 :-) ).  \n",
        "\n",
        "Complete the following tasks. \n",
        "\n",
        "1. Check examples in https://www.cs.mu.edu/~keke/dm/data/house.ipynb. Try more features. So far, we only selected a very small set of columns to use in training. You can add more, especially the ones that are intuitively useful, e.g., zip code, area, school district, garage space, etc. Try at least five more attributes. Report what you have done and what you have observed about the RMSE change. Do not include \"Listed Price\" as they may have considered z-estimate (the output of the prediction model). \"Sold On\" should not be used as future sales cannot utilize this information. \n",
        "\n",
        "2. Data cleaning: There are NAN and outliers sprinkled throughout the dataset. You should find ways to selectively filter and remove them. Summarize how you handle the missing values and outliers. Use one example to show how different strategies (e.g., removing NAN or replacing with some value) affect the final RMSE.\n",
        "\n",
        "    Task 1 and 2 still use the training data from 2021 (as used in the above example). However, if the training or testing data size becomes too small (e.g., < 1000) due to data cleaning, the model quality assessment is not reliable. You may change the split_data code to get a larger testing data and adjust the covered period to get reasonable data size. \n",
        "    \n",
        "\n",
        "3. Including more training examples: There is a large number of examples in previous years that you can also include. You may try different strategies to include more training data. However, alway keep the house sales between 2021-2-15 and 2021-3-1 as our test data. Reuse the \"split_data\" function with different time_stamps. The best set of features from the task 1&2 might be sufficiently good for this experiment. However, you may also check whether different sets of features may affect the modeling result. Describe what you do and report the RMSE change with different amount of training data (e.g., including the past 1 year, 2 years, ...). \n",
        "\n",
        "\n",
        "4. Finally, describe the best model you get: the features you used, data cleaning strategies, training data size, testing data size, RMSE, and the feature importance of the best model. \n",
        "\n",
        "Suggestion: reorganize the code neatly with functions to reuse pieces of code.\n",
        "\n",
        "Rubrics: http://www.cs.mu.edu/~keke/dm/sp23/prj1-grading-temp.docx\n"
      ]
    },
    {
      "cell_type": "markdown",
      "source": [
        "**First Attempt:**\n",
        "-------------------------------\n",
        "RMSE VALUE OF 0.14890043804776348"
      ],
      "metadata": {
        "id": "Fz_Vu2ZtYRuL"
      }
    },
    {
      "cell_type": "code",
      "execution_count": 253,
      "metadata": {
        "id": "Mvs8Kh0dDJRZ",
        "colab": {
          "base_uri": "https://localhost:8080/"
        },
        "outputId": "dcffd24a-a796-4a63-b358-9d222999697d"
      },
      "outputs": [
        {
          "output_type": "execute_result",
          "data": {
            "text/plain": [
              "Sold Price            object\n",
              "Sold On               object\n",
              "Type                  object\n",
              "Year built            object\n",
              "Bedrooms              object\n",
              "Cooling               object\n",
              "Heating               object\n",
              "Parking               object\n",
              "HighSchoolDistrict    object\n",
              "Zip                   object\n",
              "dtype: object"
            ]
          },
          "metadata": {},
          "execution_count": 253
        }
      ],
      "source": [
        "# YOUR SOLUTION HERE\n",
        "columns2 = ['Sold Price', 'Sold On', 'Type', 'Year built', 'Bedrooms','Cooling','Heating','Parking','HighSchoolDistrict','Zip']\n",
        "df2 = data[columns2].copy()\n",
        "\n",
        "df2.dtypes\n",
        "\n",
        "\n",
        "\n"
      ]
    },
    {
      "cell_type": "code",
      "source": [
        "df2['Year built'] = df['Year built']\n",
        "df2['Sold Price'] = df['Sold Price']\n",
        "df2['Type'] = df['Type']\n",
        "df2['Sold On'] = df['Sold On']\n",
        "df2['Bedrooms'] = df['Bedrooms']\n",
        "df2 = df2[df2['Zip'] != 'No Data']\n",
        "df2 = df2[df2['Cooling'] != 'No Data']\n",
        "df2 = df2[df2['Heating'] != 'No Data']\n",
        "df2 = df2[df2['Parking'] != 'No Data']\n",
        "df2 = df2[df2['HighSchoolDistrict'] != 'No Data']\n",
        "df2 = df2[df2['Cooling'].isin(['None', 'Central Air', 'Central', 'Central AC','Other'])]\n",
        "df2['Cooling'] = df2['Cooling'].astype('category').cat.codes\n",
        "df2 = df2[df2['Heating'].isin(['Central', 'Forced air', 'Central Forced Air', 'Forced air, Gas'])]\n",
        "df2['Heating'] = df2['Heating'].astype('category').cat.codes\n",
        "df2 = df2[df2['Parking'].isin(['Garage, Garage - Attached, Covered','Garage - Attached', 'Garage', 'Garage, Garage - Attached', '0 spaces'])]\n",
        "df2['Parking'] = df2['Parking'].astype('category').cat.codes\n",
        "df2['HighSchoolDistrict'] = df2['HighSchoolDistrict'].astype('category').cat.codes\n",
        "df2['Zip'] = df2['Zip'].astype('category').cat.codes\n"
      ],
      "metadata": {
        "id": "FDDAFk9owC3D"
      },
      "execution_count": 254,
      "outputs": []
    },
    {
      "cell_type": "code",
      "source": [
        "df2.head(100000)"
      ],
      "metadata": {
        "id": "TutxtTkfFW1w",
        "colab": {
          "base_uri": "https://localhost:8080/",
          "height": 423
        },
        "outputId": "bddea669-ae2f-49a5-a4c4-8cf50236ffa6"
      },
      "execution_count": 255,
      "outputs": [
        {
          "output_type": "execute_result",
          "data": {
            "text/plain": [
              "        Sold Price    Sold On  Type  Year built  Bedrooms  Cooling  Heating  \\\n",
              "5         6.114278 2021-02-24   3.0      1966.0       3.0        3        0   \n",
              "6              NaN        NaT   NaN         NaN       NaN        0        3   \n",
              "8         5.900368 2021-01-30   2.0      1939.0       2.0        2        0   \n",
              "14        6.113944 2020-09-03   2.0      1962.0       4.0        4        1   \n",
              "17        6.505150 2019-11-22   2.0      2019.0       5.0        0        0   \n",
              "...            ...        ...   ...         ...       ...      ...      ...   \n",
              "164924    5.688937 2020-12-11   2.0      2020.0       3.0        2        0   \n",
              "164930         NaN        NaT   NaN         NaN       NaN        3        2   \n",
              "164931    6.356982 2020-08-20   1.0      1992.0       4.0        3        3   \n",
              "164937    5.537820 2021-02-03   0.0      1971.0       2.0        0        2   \n",
              "164938    6.146128 2020-07-06   3.0      1985.0       2.0        3        1   \n",
              "\n",
              "        Parking  HighSchoolDistrict  Zip  \n",
              "5             2                  -1  101  \n",
              "6             4                  -1  874  \n",
              "8             1                  -1  286  \n",
              "14            4                  -1  832  \n",
              "17            4                  -1   59  \n",
              "...         ...                 ...  ...  \n",
              "164924        2                  -1  587  \n",
              "164930        4                  -1  868  \n",
              "164931        4                  -1  719  \n",
              "164937        4                  -1  756  \n",
              "164938        4                  -1  701  \n",
              "\n",
              "[17531 rows x 10 columns]"
            ],
            "text/html": [
              "\n",
              "  <div id=\"df-04eaadc7-ae68-465e-a485-958c2829bbf1\">\n",
              "    <div class=\"colab-df-container\">\n",
              "      <div>\n",
              "<style scoped>\n",
              "    .dataframe tbody tr th:only-of-type {\n",
              "        vertical-align: middle;\n",
              "    }\n",
              "\n",
              "    .dataframe tbody tr th {\n",
              "        vertical-align: top;\n",
              "    }\n",
              "\n",
              "    .dataframe thead th {\n",
              "        text-align: right;\n",
              "    }\n",
              "</style>\n",
              "<table border=\"1\" class=\"dataframe\">\n",
              "  <thead>\n",
              "    <tr style=\"text-align: right;\">\n",
              "      <th></th>\n",
              "      <th>Sold Price</th>\n",
              "      <th>Sold On</th>\n",
              "      <th>Type</th>\n",
              "      <th>Year built</th>\n",
              "      <th>Bedrooms</th>\n",
              "      <th>Cooling</th>\n",
              "      <th>Heating</th>\n",
              "      <th>Parking</th>\n",
              "      <th>HighSchoolDistrict</th>\n",
              "      <th>Zip</th>\n",
              "    </tr>\n",
              "  </thead>\n",
              "  <tbody>\n",
              "    <tr>\n",
              "      <th>5</th>\n",
              "      <td>6.114278</td>\n",
              "      <td>2021-02-24</td>\n",
              "      <td>3.0</td>\n",
              "      <td>1966.0</td>\n",
              "      <td>3.0</td>\n",
              "      <td>3</td>\n",
              "      <td>0</td>\n",
              "      <td>2</td>\n",
              "      <td>-1</td>\n",
              "      <td>101</td>\n",
              "    </tr>\n",
              "    <tr>\n",
              "      <th>6</th>\n",
              "      <td>NaN</td>\n",
              "      <td>NaT</td>\n",
              "      <td>NaN</td>\n",
              "      <td>NaN</td>\n",
              "      <td>NaN</td>\n",
              "      <td>0</td>\n",
              "      <td>3</td>\n",
              "      <td>4</td>\n",
              "      <td>-1</td>\n",
              "      <td>874</td>\n",
              "    </tr>\n",
              "    <tr>\n",
              "      <th>8</th>\n",
              "      <td>5.900368</td>\n",
              "      <td>2021-01-30</td>\n",
              "      <td>2.0</td>\n",
              "      <td>1939.0</td>\n",
              "      <td>2.0</td>\n",
              "      <td>2</td>\n",
              "      <td>0</td>\n",
              "      <td>1</td>\n",
              "      <td>-1</td>\n",
              "      <td>286</td>\n",
              "    </tr>\n",
              "    <tr>\n",
              "      <th>14</th>\n",
              "      <td>6.113944</td>\n",
              "      <td>2020-09-03</td>\n",
              "      <td>2.0</td>\n",
              "      <td>1962.0</td>\n",
              "      <td>4.0</td>\n",
              "      <td>4</td>\n",
              "      <td>1</td>\n",
              "      <td>4</td>\n",
              "      <td>-1</td>\n",
              "      <td>832</td>\n",
              "    </tr>\n",
              "    <tr>\n",
              "      <th>17</th>\n",
              "      <td>6.505150</td>\n",
              "      <td>2019-11-22</td>\n",
              "      <td>2.0</td>\n",
              "      <td>2019.0</td>\n",
              "      <td>5.0</td>\n",
              "      <td>0</td>\n",
              "      <td>0</td>\n",
              "      <td>4</td>\n",
              "      <td>-1</td>\n",
              "      <td>59</td>\n",
              "    </tr>\n",
              "    <tr>\n",
              "      <th>...</th>\n",
              "      <td>...</td>\n",
              "      <td>...</td>\n",
              "      <td>...</td>\n",
              "      <td>...</td>\n",
              "      <td>...</td>\n",
              "      <td>...</td>\n",
              "      <td>...</td>\n",
              "      <td>...</td>\n",
              "      <td>...</td>\n",
              "      <td>...</td>\n",
              "    </tr>\n",
              "    <tr>\n",
              "      <th>164924</th>\n",
              "      <td>5.688937</td>\n",
              "      <td>2020-12-11</td>\n",
              "      <td>2.0</td>\n",
              "      <td>2020.0</td>\n",
              "      <td>3.0</td>\n",
              "      <td>2</td>\n",
              "      <td>0</td>\n",
              "      <td>2</td>\n",
              "      <td>-1</td>\n",
              "      <td>587</td>\n",
              "    </tr>\n",
              "    <tr>\n",
              "      <th>164930</th>\n",
              "      <td>NaN</td>\n",
              "      <td>NaT</td>\n",
              "      <td>NaN</td>\n",
              "      <td>NaN</td>\n",
              "      <td>NaN</td>\n",
              "      <td>3</td>\n",
              "      <td>2</td>\n",
              "      <td>4</td>\n",
              "      <td>-1</td>\n",
              "      <td>868</td>\n",
              "    </tr>\n",
              "    <tr>\n",
              "      <th>164931</th>\n",
              "      <td>6.356982</td>\n",
              "      <td>2020-08-20</td>\n",
              "      <td>1.0</td>\n",
              "      <td>1992.0</td>\n",
              "      <td>4.0</td>\n",
              "      <td>3</td>\n",
              "      <td>3</td>\n",
              "      <td>4</td>\n",
              "      <td>-1</td>\n",
              "      <td>719</td>\n",
              "    </tr>\n",
              "    <tr>\n",
              "      <th>164937</th>\n",
              "      <td>5.537820</td>\n",
              "      <td>2021-02-03</td>\n",
              "      <td>0.0</td>\n",
              "      <td>1971.0</td>\n",
              "      <td>2.0</td>\n",
              "      <td>0</td>\n",
              "      <td>2</td>\n",
              "      <td>4</td>\n",
              "      <td>-1</td>\n",
              "      <td>756</td>\n",
              "    </tr>\n",
              "    <tr>\n",
              "      <th>164938</th>\n",
              "      <td>6.146128</td>\n",
              "      <td>2020-07-06</td>\n",
              "      <td>3.0</td>\n",
              "      <td>1985.0</td>\n",
              "      <td>2.0</td>\n",
              "      <td>3</td>\n",
              "      <td>1</td>\n",
              "      <td>4</td>\n",
              "      <td>-1</td>\n",
              "      <td>701</td>\n",
              "    </tr>\n",
              "  </tbody>\n",
              "</table>\n",
              "<p>17531 rows × 10 columns</p>\n",
              "</div>\n",
              "      <button class=\"colab-df-convert\" onclick=\"convertToInteractive('df-04eaadc7-ae68-465e-a485-958c2829bbf1')\"\n",
              "              title=\"Convert this dataframe to an interactive table.\"\n",
              "              style=\"display:none;\">\n",
              "        \n",
              "  <svg xmlns=\"http://www.w3.org/2000/svg\" height=\"24px\"viewBox=\"0 0 24 24\"\n",
              "       width=\"24px\">\n",
              "    <path d=\"M0 0h24v24H0V0z\" fill=\"none\"/>\n",
              "    <path d=\"M18.56 5.44l.94 2.06.94-2.06 2.06-.94-2.06-.94-.94-2.06-.94 2.06-2.06.94zm-11 1L8.5 8.5l.94-2.06 2.06-.94-2.06-.94L8.5 2.5l-.94 2.06-2.06.94zm10 10l.94 2.06.94-2.06 2.06-.94-2.06-.94-.94-2.06-.94 2.06-2.06.94z\"/><path d=\"M17.41 7.96l-1.37-1.37c-.4-.4-.92-.59-1.43-.59-.52 0-1.04.2-1.43.59L10.3 9.45l-7.72 7.72c-.78.78-.78 2.05 0 2.83L4 21.41c.39.39.9.59 1.41.59.51 0 1.02-.2 1.41-.59l7.78-7.78 2.81-2.81c.8-.78.8-2.07 0-2.86zM5.41 20L4 18.59l7.72-7.72 1.47 1.35L5.41 20z\"/>\n",
              "  </svg>\n",
              "      </button>\n",
              "      \n",
              "  <style>\n",
              "    .colab-df-container {\n",
              "      display:flex;\n",
              "      flex-wrap:wrap;\n",
              "      gap: 12px;\n",
              "    }\n",
              "\n",
              "    .colab-df-convert {\n",
              "      background-color: #E8F0FE;\n",
              "      border: none;\n",
              "      border-radius: 50%;\n",
              "      cursor: pointer;\n",
              "      display: none;\n",
              "      fill: #1967D2;\n",
              "      height: 32px;\n",
              "      padding: 0 0 0 0;\n",
              "      width: 32px;\n",
              "    }\n",
              "\n",
              "    .colab-df-convert:hover {\n",
              "      background-color: #E2EBFA;\n",
              "      box-shadow: 0px 1px 2px rgba(60, 64, 67, 0.3), 0px 1px 3px 1px rgba(60, 64, 67, 0.15);\n",
              "      fill: #174EA6;\n",
              "    }\n",
              "\n",
              "    [theme=dark] .colab-df-convert {\n",
              "      background-color: #3B4455;\n",
              "      fill: #D2E3FC;\n",
              "    }\n",
              "\n",
              "    [theme=dark] .colab-df-convert:hover {\n",
              "      background-color: #434B5C;\n",
              "      box-shadow: 0px 1px 3px 1px rgba(0, 0, 0, 0.15);\n",
              "      filter: drop-shadow(0px 1px 2px rgba(0, 0, 0, 0.3));\n",
              "      fill: #FFFFFF;\n",
              "    }\n",
              "  </style>\n",
              "\n",
              "      <script>\n",
              "        const buttonEl =\n",
              "          document.querySelector('#df-04eaadc7-ae68-465e-a485-958c2829bbf1 button.colab-df-convert');\n",
              "        buttonEl.style.display =\n",
              "          google.colab.kernel.accessAllowed ? 'block' : 'none';\n",
              "\n",
              "        async function convertToInteractive(key) {\n",
              "          const element = document.querySelector('#df-04eaadc7-ae68-465e-a485-958c2829bbf1');\n",
              "          const dataTable =\n",
              "            await google.colab.kernel.invokeFunction('convertToInteractive',\n",
              "                                                     [key], {});\n",
              "          if (!dataTable) return;\n",
              "\n",
              "          const docLinkHtml = 'Like what you see? Visit the ' +\n",
              "            '<a target=\"_blank\" href=https://colab.research.google.com/notebooks/data_table.ipynb>data table notebook</a>'\n",
              "            + ' to learn more about interactive tables.';\n",
              "          element.innerHTML = '';\n",
              "          dataTable['output_type'] = 'display_data';\n",
              "          await google.colab.output.renderOutput(dataTable, element);\n",
              "          const docLink = document.createElement('div');\n",
              "          docLink.innerHTML = docLinkHtml;\n",
              "          element.appendChild(docLink);\n",
              "        }\n",
              "      </script>\n",
              "    </div>\n",
              "  </div>\n",
              "  "
            ]
          },
          "metadata": {},
          "execution_count": 255
        }
      ]
    },
    {
      "cell_type": "code",
      "source": [
        "df2.dtypes\n"
      ],
      "metadata": {
        "id": "mUyo5AnrF4GB",
        "colab": {
          "base_uri": "https://localhost:8080/"
        },
        "outputId": "2b019e0c-3f41-4c96-f92d-6011fc68b27d"
      },
      "execution_count": 256,
      "outputs": [
        {
          "output_type": "execute_result",
          "data": {
            "text/plain": [
              "Sold Price                   float64\n",
              "Sold On               datetime64[ns]\n",
              "Type                         float64\n",
              "Year built                   float64\n",
              "Bedrooms                     float64\n",
              "Cooling                         int8\n",
              "Heating                         int8\n",
              "Parking                         int8\n",
              "HighSchoolDistrict              int8\n",
              "Zip                            int16\n",
              "dtype: object"
            ]
          },
          "metadata": {},
          "execution_count": 256
        }
      ]
    },
    {
      "cell_type": "code",
      "source": [
        "df2=df2.dropna(subset=['Sold Price', 'Sold On', 'Type', 'Year built', 'Bedrooms','Cooling','Heating','Parking','HighSchoolDistrict','Zip'])#, 'Zip', 'Cooling', 'Heating', 'Parking','HighSchoolDistrict'])\n",
        "len(df2)"
      ],
      "metadata": {
        "id": "vx8Z3SiXgR0-",
        "colab": {
          "base_uri": "https://localhost:8080/"
        },
        "outputId": "fc3fad8d-4688-43c7-9ffb-9df50e5ec8d6"
      },
      "execution_count": 257,
      "outputs": [
        {
          "output_type": "execute_result",
          "data": {
            "text/plain": [
              "13033"
            ]
          },
          "metadata": {},
          "execution_count": 257
        }
      ]
    },
    {
      "cell_type": "code",
      "source": [
        "train, test = split_data(df2, pd.Timestamp(2021, 1, 1))"
      ],
      "metadata": {
        "id": "uJUqclUhnTDf",
        "colab": {
          "base_uri": "https://localhost:8080/"
        },
        "outputId": "c7fd0692-d018-4284-995f-c31e6436a682"
      },
      "execution_count": 258,
      "outputs": [
        {
          "output_type": "stream",
          "name": "stderr",
          "text": [
            "<ipython-input-248-33cfc2a2c9ac>:6: SettingWithCopyWarning: \n",
            "A value is trying to be set on a copy of a slice from a DataFrame.\n",
            "Try using .loc[row_indexer,col_indexer] = value instead\n",
            "\n",
            "See the caveats in the documentation: https://pandas.pydata.org/pandas-docs/stable/user_guide/indexing.html#returning-a-view-versus-a-copy\n",
            "  df['Sold On'] = pd.to_datetime(df['Sold On'], errors='coerce')\n"
          ]
        }
      ]
    },
    {
      "cell_type": "code",
      "source": [
        "\n",
        "features = ['Type', 'Year built', 'Bedrooms','Cooling','Heating','Parking','HighSchoolDistrict','Zip']\n",
        "X_train, y_train, X_test, y_test = prepare_train_test(train, test, features)\n",
        "\n"
      ],
      "metadata": {
        "id": "tf5i7V-2eB-d"
      },
      "execution_count": 259,
      "outputs": []
    },
    {
      "cell_type": "code",
      "source": [
        "predictor = modeling(X_train, y_train, X_test, y_test)"
      ],
      "metadata": {
        "id": "nJvuTFq9nNfu",
        "colab": {
          "base_uri": "https://localhost:8080/"
        },
        "outputId": "71a77e16-5745-45a1-8520-a0d769a694a8"
      },
      "execution_count": 260,
      "outputs": [
        {
          "output_type": "stream",
          "name": "stdout",
          "text": [
            "Starting training...\n",
            "[1]\tvalid_0's l2: 0.0533033\tvalid_0's l2: 0.0533033\n",
            "Training until validation scores don't improve for 5 rounds.\n",
            "[2]\tvalid_0's l2: 0.0508033\tvalid_0's l2: 0.0508033\n",
            "[3]\tvalid_0's l2: 0.048627\tvalid_0's l2: 0.048627\n",
            "[4]\tvalid_0's l2: 0.0462923\tvalid_0's l2: 0.0462923\n",
            "[5]\tvalid_0's l2: 0.0444066\tvalid_0's l2: 0.0444066\n",
            "[6]\tvalid_0's l2: 0.0426789\tvalid_0's l2: 0.0426789\n",
            "[7]\tvalid_0's l2: 0.0410491\tvalid_0's l2: 0.0410491\n",
            "[8]\tvalid_0's l2: 0.0395722\tvalid_0's l2: 0.0395722\n",
            "[9]\tvalid_0's l2: 0.0381934\tvalid_0's l2: 0.0381934\n",
            "[10]\tvalid_0's l2: 0.0369389\tvalid_0's l2: 0.0369389\n",
            "[11]\tvalid_0's l2: 0.0358384\tvalid_0's l2: 0.0358384\n",
            "[12]\tvalid_0's l2: 0.0349699\tvalid_0's l2: 0.0349699\n",
            "[13]\tvalid_0's l2: 0.0339468\tvalid_0's l2: 0.0339468\n",
            "[14]\tvalid_0's l2: 0.0331794\tvalid_0's l2: 0.0331794\n",
            "[15]\tvalid_0's l2: 0.0323383\tvalid_0's l2: 0.0323383\n",
            "[16]\tvalid_0's l2: 0.0317001\tvalid_0's l2: 0.0317001\n",
            "[17]\tvalid_0's l2: 0.0309553\tvalid_0's l2: 0.0309553\n",
            "[18]\tvalid_0's l2: 0.0303521\tvalid_0's l2: 0.0303521\n",
            "[19]\tvalid_0's l2: 0.0297604\tvalid_0's l2: 0.0297604\n",
            "[20]\tvalid_0's l2: 0.0293056\tvalid_0's l2: 0.0293056\n",
            "[21]\tvalid_0's l2: 0.0288872\tvalid_0's l2: 0.0288872\n",
            "[22]\tvalid_0's l2: 0.0284538\tvalid_0's l2: 0.0284538\n",
            "[23]\tvalid_0's l2: 0.0279989\tvalid_0's l2: 0.0279989\n",
            "[24]\tvalid_0's l2: 0.0275843\tvalid_0's l2: 0.0275843\n",
            "[25]\tvalid_0's l2: 0.0273074\tvalid_0's l2: 0.0273074\n",
            "[26]\tvalid_0's l2: 0.0269959\tvalid_0's l2: 0.0269959\n",
            "[27]\tvalid_0's l2: 0.0267119\tvalid_0's l2: 0.0267119\n",
            "[28]\tvalid_0's l2: 0.0264265\tvalid_0's l2: 0.0264265\n",
            "[29]\tvalid_0's l2: 0.0261645\tvalid_0's l2: 0.0261645\n",
            "[30]\tvalid_0's l2: 0.0259787\tvalid_0's l2: 0.0259787\n",
            "[31]\tvalid_0's l2: 0.0256734\tvalid_0's l2: 0.0256734\n",
            "[32]\tvalid_0's l2: 0.0254844\tvalid_0's l2: 0.0254844\n",
            "[33]\tvalid_0's l2: 0.0252259\tvalid_0's l2: 0.0252259\n",
            "[34]\tvalid_0's l2: 0.0250398\tvalid_0's l2: 0.0250398\n",
            "[35]\tvalid_0's l2: 0.0248858\tvalid_0's l2: 0.0248858\n",
            "[36]\tvalid_0's l2: 0.0247097\tvalid_0's l2: 0.0247097\n",
            "[37]\tvalid_0's l2: 0.0245821\tvalid_0's l2: 0.0245821\n",
            "[38]\tvalid_0's l2: 0.0244671\tvalid_0's l2: 0.0244671\n",
            "[39]\tvalid_0's l2: 0.0243155\tvalid_0's l2: 0.0243155\n",
            "[40]\tvalid_0's l2: 0.0242024\tvalid_0's l2: 0.0242024\n",
            "[41]\tvalid_0's l2: 0.0240751\tvalid_0's l2: 0.0240751\n",
            "[42]\tvalid_0's l2: 0.0239711\tvalid_0's l2: 0.0239711\n",
            "[43]\tvalid_0's l2: 0.0238539\tvalid_0's l2: 0.0238539\n",
            "[44]\tvalid_0's l2: 0.0237373\tvalid_0's l2: 0.0237373\n",
            "[45]\tvalid_0's l2: 0.0236515\tvalid_0's l2: 0.0236515\n",
            "[46]\tvalid_0's l2: 0.0235621\tvalid_0's l2: 0.0235621\n",
            "[47]\tvalid_0's l2: 0.0235003\tvalid_0's l2: 0.0235003\n",
            "[48]\tvalid_0's l2: 0.0234098\tvalid_0's l2: 0.0234098\n",
            "[49]\tvalid_0's l2: 0.0233754\tvalid_0's l2: 0.0233754\n",
            "[50]\tvalid_0's l2: 0.0233025\tvalid_0's l2: 0.0233025\n",
            "[51]\tvalid_0's l2: 0.0233002\tvalid_0's l2: 0.0233002\n",
            "[52]\tvalid_0's l2: 0.0232386\tvalid_0's l2: 0.0232386\n",
            "[53]\tvalid_0's l2: 0.0231941\tvalid_0's l2: 0.0231941\n",
            "[54]\tvalid_0's l2: 0.0231837\tvalid_0's l2: 0.0231837\n",
            "[55]\tvalid_0's l2: 0.0230834\tvalid_0's l2: 0.0230834\n",
            "[56]\tvalid_0's l2: 0.0229915\tvalid_0's l2: 0.0229915\n",
            "[57]\tvalid_0's l2: 0.0229958\tvalid_0's l2: 0.0229958\n",
            "[58]\tvalid_0's l2: 0.0229111\tvalid_0's l2: 0.0229111\n",
            "[59]\tvalid_0's l2: 0.0228789\tvalid_0's l2: 0.0228789\n",
            "[60]\tvalid_0's l2: 0.0228487\tvalid_0's l2: 0.0228487\n",
            "[61]\tvalid_0's l2: 0.0228354\tvalid_0's l2: 0.0228354\n",
            "[62]\tvalid_0's l2: 0.0227908\tvalid_0's l2: 0.0227908\n",
            "[63]\tvalid_0's l2: 0.0227372\tvalid_0's l2: 0.0227372\n",
            "[64]\tvalid_0's l2: 0.0227363\tvalid_0's l2: 0.0227363\n",
            "[65]\tvalid_0's l2: 0.0226978\tvalid_0's l2: 0.0226978\n",
            "[66]\tvalid_0's l2: 0.0226461\tvalid_0's l2: 0.0226461\n",
            "[67]\tvalid_0's l2: 0.0226709\tvalid_0's l2: 0.0226709\n",
            "[68]\tvalid_0's l2: 0.0226554\tvalid_0's l2: 0.0226554\n",
            "[69]\tvalid_0's l2: 0.0226672\tvalid_0's l2: 0.0226672\n",
            "[70]\tvalid_0's l2: 0.0226376\tvalid_0's l2: 0.0226376\n",
            "[71]\tvalid_0's l2: 0.0226323\tvalid_0's l2: 0.0226323\n",
            "[72]\tvalid_0's l2: 0.0226126\tvalid_0's l2: 0.0226126\n",
            "[73]\tvalid_0's l2: 0.0226159\tvalid_0's l2: 0.0226159\n",
            "[74]\tvalid_0's l2: 0.0225949\tvalid_0's l2: 0.0225949\n",
            "[75]\tvalid_0's l2: 0.0225733\tvalid_0's l2: 0.0225733\n",
            "[76]\tvalid_0's l2: 0.0225486\tvalid_0's l2: 0.0225486\n",
            "[77]\tvalid_0's l2: 0.022542\tvalid_0's l2: 0.022542\n",
            "[78]\tvalid_0's l2: 0.0225127\tvalid_0's l2: 0.0225127\n",
            "[79]\tvalid_0's l2: 0.0224985\tvalid_0's l2: 0.0224985\n",
            "[80]\tvalid_0's l2: 0.0224942\tvalid_0's l2: 0.0224942\n",
            "[81]\tvalid_0's l2: 0.0224833\tvalid_0's l2: 0.0224833\n",
            "[82]\tvalid_0's l2: 0.0224822\tvalid_0's l2: 0.0224822\n",
            "[83]\tvalid_0's l2: 0.0224438\tvalid_0's l2: 0.0224438\n",
            "[84]\tvalid_0's l2: 0.02244\tvalid_0's l2: 0.02244\n",
            "[85]\tvalid_0's l2: 0.0224092\tvalid_0's l2: 0.0224092\n",
            "[86]\tvalid_0's l2: 0.0223929\tvalid_0's l2: 0.0223929\n",
            "[87]\tvalid_0's l2: 0.0223566\tvalid_0's l2: 0.0223566\n",
            "[88]\tvalid_0's l2: 0.0223426\tvalid_0's l2: 0.0223426\n",
            "[89]\tvalid_0's l2: 0.0223139\tvalid_0's l2: 0.0223139\n",
            "[90]\tvalid_0's l2: 0.022286\tvalid_0's l2: 0.022286\n",
            "[91]\tvalid_0's l2: 0.0222801\tvalid_0's l2: 0.0222801\n",
            "[92]\tvalid_0's l2: 0.0222626\tvalid_0's l2: 0.0222626\n",
            "[93]\tvalid_0's l2: 0.0222447\tvalid_0's l2: 0.0222447\n",
            "[94]\tvalid_0's l2: 0.0222378\tvalid_0's l2: 0.0222378\n",
            "[95]\tvalid_0's l2: 0.0222289\tvalid_0's l2: 0.0222289\n",
            "[96]\tvalid_0's l2: 0.0221925\tvalid_0's l2: 0.0221925\n",
            "[97]\tvalid_0's l2: 0.0222112\tvalid_0's l2: 0.0222112\n",
            "[98]\tvalid_0's l2: 0.0222075\tvalid_0's l2: 0.0222075\n",
            "[99]\tvalid_0's l2: 0.0222037\tvalid_0's l2: 0.0222037\n",
            "[100]\tvalid_0's l2: 0.0221713\tvalid_0's l2: 0.0221713\n",
            "Did not meet early stopping. Best iteration is:\n",
            "[100]\tvalid_0's l2: 0.0221713\tvalid_0's l2: 0.0221713\n",
            "Starting predicting...\n",
            "The RMSE of prediction is: 0.14890043804776348\n"
          ]
        }
      ]
    },
    {
      "cell_type": "code",
      "source": [
        "lgb.plot_importance(predictor)"
      ],
      "metadata": {
        "id": "3yeaOo2p5msW",
        "colab": {
          "base_uri": "https://localhost:8080/",
          "height": 312
        },
        "outputId": "c3f8516e-41b8-4325-dae4-f4a00444f2d4"
      },
      "execution_count": 261,
      "outputs": [
        {
          "output_type": "execute_result",
          "data": {
            "text/plain": [
              "<matplotlib.axes._subplots.AxesSubplot at 0x7f15ef5d65e0>"
            ]
          },
          "metadata": {},
          "execution_count": 261
        },
        {
          "output_type": "display_data",
          "data": {
            "text/plain": [
              "<Figure size 432x288 with 1 Axes>"
            ],
            "image/png": "[encoded data removed]"
          },
          "metadata": {
            "needs_background": "light"
          }
        }
      ]
    },
    {
      "cell_type": "markdown",
      "source": [
        "**End Of First Attempt:**\n",
        "FINAL RMSE VALUE OF 0.14890043804776348\n"
      ],
      "metadata": {
        "id": "dstddyNHZt0m"
      }
    },
    {
      "cell_type": "markdown",
      "source": [
        "**Second Attempt:**\n",
        "----------------------------\n",
        "RMSE VALUE OF 0.1716806776347261"
      ],
      "metadata": {
        "id": "3-S94TueYmP2"
      }
    },
    {
      "cell_type": "code",
      "source": [
        "columns3 = ['Sold Price', 'Sold On', 'Year built', 'Bedrooms','Cooling','Parking','Zip']\n",
        "df3 = data[columns3].copy()\n",
        "\n",
        "df3.dtypes\n",
        "\n"
      ],
      "metadata": {
        "id": "PFaZJYtN60BM",
        "colab": {
          "base_uri": "https://localhost:8080/"
        },
        "outputId": "335c1134-c78e-4785-e586-e31683645208"
      },
      "execution_count": 262,
      "outputs": [
        {
          "output_type": "execute_result",
          "data": {
            "text/plain": [
              "Sold Price    object\n",
              "Sold On       object\n",
              "Year built    object\n",
              "Bedrooms      object\n",
              "Cooling       object\n",
              "Parking       object\n",
              "Zip           object\n",
              "dtype: object"
            ]
          },
          "metadata": {},
          "execution_count": 262
        }
      ]
    },
    {
      "cell_type": "code",
      "source": [
        "df3['Year built'] = df['Year built']\n",
        "df3['Sold Price'] = df['Sold Price']\n",
        "df3['Sold On'] = df['Sold On']\n",
        "df3['Bedrooms'] = df['Bedrooms']\n",
        "df3 = df3[df3['Zip'] != 'No Data']\n",
        "df3 = df3[df3['Cooling'] != 'No Data']\n",
        "df3 = df3[df3['Parking'] != 'No Data']\n",
        "df3 = df3[df3['Cooling'].isin(['None', 'Central Air', 'Central', 'Central AC','Other'])]\n",
        "df3['Cooling'] = df3['Cooling'].astype('category').cat.codes\n",
        "df3 = df3[df3['Parking'].isin(['Garage, Garage - Attached, Covered','Garage - Attached', 'Garage', 'Garage, Garage - Attached', '0 spaces'])]\n",
        "df3['Parking'] = df3['Parking'].astype('category').cat.codes\n",
        "df3['Zip'] = df3['Zip'].astype('category').cat.codes\n",
        "\n",
        "df3.dtypes"
      ],
      "metadata": {
        "colab": {
          "base_uri": "https://localhost:8080/"
        },
        "id": "vgnfla68Wdxg",
        "outputId": "67d9a87a-5d9d-48bc-f707-6de976bb43fc"
      },
      "execution_count": 263,
      "outputs": [
        {
          "output_type": "execute_result",
          "data": {
            "text/plain": [
              "Sold Price           float64\n",
              "Sold On       datetime64[ns]\n",
              "Year built           float64\n",
              "Bedrooms             float64\n",
              "Cooling                 int8\n",
              "Parking                 int8\n",
              "Zip                    int16\n",
              "dtype: object"
            ]
          },
          "metadata": {},
          "execution_count": 263
        }
      ]
    },
    {
      "cell_type": "code",
      "source": [
        "df3.fillna(0)"
      ],
      "metadata": {
        "colab": {
          "base_uri": "https://localhost:8080/",
          "height": 423
        },
        "id": "T_18_m9QX4VB",
        "outputId": "b0d8a572-356c-471d-fad5-de1231d2490b"
      },
      "execution_count": 264,
      "outputs": [
        {
          "output_type": "execute_result",
          "data": {
            "text/plain": [
              "        Sold Price              Sold On  Year built  Bedrooms  Cooling  \\\n",
              "2         6.051153  2019-11-06 00:00:00      1954.0       3.0        1   \n",
              "5         6.114278  2021-02-24 00:00:00      1966.0       3.0        3   \n",
              "6         0.000000                    0         0.0       0.0        0   \n",
              "8         5.900368  2021-01-30 00:00:00      1939.0       2.0        2   \n",
              "14        6.113944  2020-09-03 00:00:00      1962.0       4.0        4   \n",
              "...            ...                  ...         ...       ...      ...   \n",
              "164926    5.944483  2020-07-16 00:00:00      1986.0       2.0        3   \n",
              "164930    0.000000                    0         0.0       0.0        3   \n",
              "164931    6.356982  2020-08-20 00:00:00      1992.0       4.0        3   \n",
              "164937    5.537820  2021-02-03 00:00:00      1971.0       2.0        0   \n",
              "164938    6.146128  2020-07-06 00:00:00      1985.0       2.0        3   \n",
              "\n",
              "        Parking   Zip  \n",
              "2             4  1040  \n",
              "5             2   105  \n",
              "6             4  1075  \n",
              "8             1   294  \n",
              "14            4  1032  \n",
              "...         ...   ...  \n",
              "164926        4   871  \n",
              "164930        4  1069  \n",
              "164931        4   879  \n",
              "164937        4   921  \n",
              "164938        4   860  \n",
              "\n",
              "[37800 rows x 7 columns]"
            ],
            "text/html": [
              "\n",
              "  <div id=\"df-b1ab6343-139f-4946-954f-56b874b74024\">\n",
              "    <div class=\"colab-df-container\">\n",
              "      <div>\n",
              "<style scoped>\n",
              "    .dataframe tbody tr th:only-of-type {\n",
              "        vertical-align: middle;\n",
              "    }\n",
              "\n",
              "    .dataframe tbody tr th {\n",
              "        vertical-align: top;\n",
              "    }\n",
              "\n",
              "    .dataframe thead th {\n",
              "        text-align: right;\n",
              "    }\n",
              "</style>\n",
              "<table border=\"1\" class=\"dataframe\">\n",
              "  <thead>\n",
              "    <tr style=\"text-align: right;\">\n",
              "      <th></th>\n",
              "      <th>Sold Price</th>\n",
              "      <th>Sold On</th>\n",
              "      <th>Year built</th>\n",
              "      <th>Bedrooms</th>\n",
              "      <th>Cooling</th>\n",
              "      <th>Parking</th>\n",
              "      <th>Zip</th>\n",
              "    </tr>\n",
              "  </thead>\n",
              "  <tbody>\n",
              "    <tr>\n",
              "      <th>2</th>\n",
              "      <td>6.051153</td>\n",
              "      <td>2019-11-06 00:00:00</td>\n",
              "      <td>1954.0</td>\n",
              "      <td>3.0</td>\n",
              "      <td>1</td>\n",
              "      <td>4</td>\n",
              "      <td>1040</td>\n",
              "    </tr>\n",
              "    <tr>\n",
              "      <th>5</th>\n",
              "      <td>6.114278</td>\n",
              "      <td>2021-02-24 00:00:00</td>\n",
              "      <td>1966.0</td>\n",
              "      <td>3.0</td>\n",
              "      <td>3</td>\n",
              "      <td>2</td>\n",
              "      <td>105</td>\n",
              "    </tr>\n",
              "    <tr>\n",
              "      <th>6</th>\n",
              "      <td>0.000000</td>\n",
              "      <td>0</td>\n",
              "      <td>0.0</td>\n",
              "      <td>0.0</td>\n",
              "      <td>0</td>\n",
              "      <td>4</td>\n",
              "      <td>1075</td>\n",
              "    </tr>\n",
              "    <tr>\n",
              "      <th>8</th>\n",
              "      <td>5.900368</td>\n",
              "      <td>2021-01-30 00:00:00</td>\n",
              "      <td>1939.0</td>\n",
              "      <td>2.0</td>\n",
              "      <td>2</td>\n",
              "      <td>1</td>\n",
              "      <td>294</td>\n",
              "    </tr>\n",
              "    <tr>\n",
              "      <th>14</th>\n",
              "      <td>6.113944</td>\n",
              "      <td>2020-09-03 00:00:00</td>\n",
              "      <td>1962.0</td>\n",
              "      <td>4.0</td>\n",
              "      <td>4</td>\n",
              "      <td>4</td>\n",
              "      <td>1032</td>\n",
              "    </tr>\n",
              "    <tr>\n",
              "      <th>...</th>\n",
              "      <td>...</td>\n",
              "      <td>...</td>\n",
              "      <td>...</td>\n",
              "      <td>...</td>\n",
              "      <td>...</td>\n",
              "      <td>...</td>\n",
              "      <td>...</td>\n",
              "    </tr>\n",
              "    <tr>\n",
              "      <th>164926</th>\n",
              "      <td>5.944483</td>\n",
              "      <td>2020-07-16 00:00:00</td>\n",
              "      <td>1986.0</td>\n",
              "      <td>2.0</td>\n",
              "      <td>3</td>\n",
              "      <td>4</td>\n",
              "      <td>871</td>\n",
              "    </tr>\n",
              "    <tr>\n",
              "      <th>164930</th>\n",
              "      <td>0.000000</td>\n",
              "      <td>0</td>\n",
              "      <td>0.0</td>\n",
              "      <td>0.0</td>\n",
              "      <td>3</td>\n",
              "      <td>4</td>\n",
              "      <td>1069</td>\n",
              "    </tr>\n",
              "    <tr>\n",
              "      <th>164931</th>\n",
              "      <td>6.356982</td>\n",
              "      <td>2020-08-20 00:00:00</td>\n",
              "      <td>1992.0</td>\n",
              "      <td>4.0</td>\n",
              "      <td>3</td>\n",
              "      <td>4</td>\n",
              "      <td>879</td>\n",
              "    </tr>\n",
              "    <tr>\n",
              "      <th>164937</th>\n",
              "      <td>5.537820</td>\n",
              "      <td>2021-02-03 00:00:00</td>\n",
              "      <td>1971.0</td>\n",
              "      <td>2.0</td>\n",
              "      <td>0</td>\n",
              "      <td>4</td>\n",
              "      <td>921</td>\n",
              "    </tr>\n",
              "    <tr>\n",
              "      <th>164938</th>\n",
              "      <td>6.146128</td>\n",
              "      <td>2020-07-06 00:00:00</td>\n",
              "      <td>1985.0</td>\n",
              "      <td>2.0</td>\n",
              "      <td>3</td>\n",
              "      <td>4</td>\n",
              "      <td>860</td>\n",
              "    </tr>\n",
              "  </tbody>\n",
              "</table>\n",
              "<p>37800 rows × 7 columns</p>\n",
              "</div>\n",
              "      <button class=\"colab-df-convert\" onclick=\"convertToInteractive('df-b1ab6343-139f-4946-954f-56b874b74024')\"\n",
              "              title=\"Convert this dataframe to an interactive table.\"\n",
              "              style=\"display:none;\">\n",
              "        \n",
              "  <svg xmlns=\"http://www.w3.org/2000/svg\" height=\"24px\"viewBox=\"0 0 24 24\"\n",
              "       width=\"24px\">\n",
              "    <path d=\"M0 0h24v24H0V0z\" fill=\"none\"/>\n",
              "    <path d=\"M18.56 5.44l.94 2.06.94-2.06 2.06-.94-2.06-.94-.94-2.06-.94 2.06-2.06.94zm-11 1L8.5 8.5l.94-2.06 2.06-.94-2.06-.94L8.5 2.5l-.94 2.06-2.06.94zm10 10l.94 2.06.94-2.06 2.06-.94-2.06-.94-.94-2.06-.94 2.06-2.06.94z\"/><path d=\"M17.41 7.96l-1.37-1.37c-.4-.4-.92-.59-1.43-.59-.52 0-1.04.2-1.43.59L10.3 9.45l-7.72 7.72c-.78.78-.78 2.05 0 2.83L4 21.41c.39.39.9.59 1.41.59.51 0 1.02-.2 1.41-.59l7.78-7.78 2.81-2.81c.8-.78.8-2.07 0-2.86zM5.41 20L4 18.59l7.72-7.72 1.47 1.35L5.41 20z\"/>\n",
              "  </svg>\n",
              "      </button>\n",
              "      \n",
              "  <style>\n",
              "    .colab-df-container {\n",
              "      display:flex;\n",
              "      flex-wrap:wrap;\n",
              "      gap: 12px;\n",
              "    }\n",
              "\n",
              "    .colab-df-convert {\n",
              "      background-color: #E8F0FE;\n",
              "      border: none;\n",
              "      border-radius: 50%;\n",
              "      cursor: pointer;\n",
              "      display: none;\n",
              "      fill: #1967D2;\n",
              "      height: 32px;\n",
              "      padding: 0 0 0 0;\n",
              "      width: 32px;\n",
              "    }\n",
              "\n",
              "    .colab-df-convert:hover {\n",
              "      background-color: #E2EBFA;\n",
              "      box-shadow: 0px 1px 2px rgba(60, 64, 67, 0.3), 0px 1px 3px 1px rgba(60, 64, 67, 0.15);\n",
              "      fill: #174EA6;\n",
              "    }\n",
              "\n",
              "    [theme=dark] .colab-df-convert {\n",
              "      background-color: #3B4455;\n",
              "      fill: #D2E3FC;\n",
              "    }\n",
              "\n",
              "    [theme=dark] .colab-df-convert:hover {\n",
              "      background-color: #434B5C;\n",
              "      box-shadow: 0px 1px 3px 1px rgba(0, 0, 0, 0.15);\n",
              "      filter: drop-shadow(0px 1px 2px rgba(0, 0, 0, 0.3));\n",
              "      fill: #FFFFFF;\n",
              "    }\n",
              "  </style>\n",
              "\n",
              "      <script>\n",
              "        const buttonEl =\n",
              "          document.querySelector('#df-b1ab6343-139f-4946-954f-56b874b74024 button.colab-df-convert');\n",
              "        buttonEl.style.display =\n",
              "          google.colab.kernel.accessAllowed ? 'block' : 'none';\n",
              "\n",
              "        async function convertToInteractive(key) {\n",
              "          const element = document.querySelector('#df-b1ab6343-139f-4946-954f-56b874b74024');\n",
              "          const dataTable =\n",
              "            await google.colab.kernel.invokeFunction('convertToInteractive',\n",
              "                                                     [key], {});\n",
              "          if (!dataTable) return;\n",
              "\n",
              "          const docLinkHtml = 'Like what you see? Visit the ' +\n",
              "            '<a target=\"_blank\" href=https://colab.research.google.com/notebooks/data_table.ipynb>data table notebook</a>'\n",
              "            + ' to learn more about interactive tables.';\n",
              "          element.innerHTML = '';\n",
              "          dataTable['output_type'] = 'display_data';\n",
              "          await google.colab.output.renderOutput(dataTable, element);\n",
              "          const docLink = document.createElement('div');\n",
              "          docLink.innerHTML = docLinkHtml;\n",
              "          element.appendChild(docLink);\n",
              "        }\n",
              "      </script>\n",
              "    </div>\n",
              "  </div>\n",
              "  "
            ]
          },
          "metadata": {},
          "execution_count": 264
        }
      ]
    },
    {
      "cell_type": "code",
      "source": [
        "train, test = split_data(df3, pd.Timestamp(2021, 1, 1))"
      ],
      "metadata": {
        "id": "jQ7CsUFQYFCD"
      },
      "execution_count": 265,
      "outputs": []
    },
    {
      "cell_type": "code",
      "source": [
        "\n",
        "features = ['Year built', 'Bedrooms','Cooling','Parking','Zip']\n",
        "X_train, y_train, X_test, y_test = prepare_train_test(train, test, features)\n",
        "\n"
      ],
      "metadata": {
        "id": "G9suJfXZYLd5"
      },
      "execution_count": 266,
      "outputs": []
    },
    {
      "cell_type": "code",
      "source": [
        "predictor = modeling(X_train, y_train, X_test, y_test)"
      ],
      "metadata": {
        "colab": {
          "base_uri": "https://localhost:8080/"
        },
        "id": "98p7cA1IY-o2",
        "outputId": "a1d8af06-5f74-49ee-d7d3-760f0c4ced03"
      },
      "execution_count": 267,
      "outputs": [
        {
          "output_type": "stream",
          "name": "stdout",
          "text": [
            "Starting training...\n",
            "[1]\tvalid_0's l2: 0.0601105\tvalid_0's l2: 0.0601105\n",
            "Training until validation scores don't improve for 5 rounds.\n",
            "[2]\tvalid_0's l2: 0.0574751\tvalid_0's l2: 0.0574751\n",
            "[3]\tvalid_0's l2: 0.0550287\tvalid_0's l2: 0.0550287\n",
            "[4]\tvalid_0's l2: 0.052883\tvalid_0's l2: 0.052883\n",
            "[5]\tvalid_0's l2: 0.0509277\tvalid_0's l2: 0.0509277\n",
            "[6]\tvalid_0's l2: 0.0492364\tvalid_0's l2: 0.0492364\n",
            "[7]\tvalid_0's l2: 0.0475823\tvalid_0's l2: 0.0475823\n",
            "[8]\tvalid_0's l2: 0.046188\tvalid_0's l2: 0.046188\n",
            "[9]\tvalid_0's l2: 0.0450066\tvalid_0's l2: 0.0450066\n",
            "[10]\tvalid_0's l2: 0.0437922\tvalid_0's l2: 0.0437922\n",
            "[11]\tvalid_0's l2: 0.0426648\tvalid_0's l2: 0.0426648\n",
            "[12]\tvalid_0's l2: 0.0417755\tvalid_0's l2: 0.0417755\n",
            "[13]\tvalid_0's l2: 0.0409416\tvalid_0's l2: 0.0409416\n",
            "[14]\tvalid_0's l2: 0.040294\tvalid_0's l2: 0.040294\n",
            "[15]\tvalid_0's l2: 0.0396172\tvalid_0's l2: 0.0396172\n",
            "[16]\tvalid_0's l2: 0.0389921\tvalid_0's l2: 0.0389921\n",
            "[17]\tvalid_0's l2: 0.0384665\tvalid_0's l2: 0.0384665\n",
            "[18]\tvalid_0's l2: 0.0379425\tvalid_0's l2: 0.0379425\n",
            "[19]\tvalid_0's l2: 0.0373285\tvalid_0's l2: 0.0373285\n",
            "[20]\tvalid_0's l2: 0.0368507\tvalid_0's l2: 0.0368507\n",
            "[21]\tvalid_0's l2: 0.0364097\tvalid_0's l2: 0.0364097\n",
            "[22]\tvalid_0's l2: 0.0359368\tvalid_0's l2: 0.0359368\n",
            "[23]\tvalid_0's l2: 0.035542\tvalid_0's l2: 0.035542\n",
            "[24]\tvalid_0's l2: 0.0352613\tvalid_0's l2: 0.0352613\n",
            "[25]\tvalid_0's l2: 0.0349406\tvalid_0's l2: 0.0349406\n",
            "[26]\tvalid_0's l2: 0.0346167\tvalid_0's l2: 0.0346167\n",
            "[27]\tvalid_0's l2: 0.0342432\tvalid_0's l2: 0.0342432\n",
            "[28]\tvalid_0's l2: 0.0339688\tvalid_0's l2: 0.0339688\n",
            "[29]\tvalid_0's l2: 0.0336781\tvalid_0's l2: 0.0336781\n",
            "[30]\tvalid_0's l2: 0.0333945\tvalid_0's l2: 0.0333945\n",
            "[31]\tvalid_0's l2: 0.0331922\tvalid_0's l2: 0.0331922\n",
            "[32]\tvalid_0's l2: 0.0330313\tvalid_0's l2: 0.0330313\n",
            "[33]\tvalid_0's l2: 0.0328155\tvalid_0's l2: 0.0328155\n",
            "[34]\tvalid_0's l2: 0.0326052\tvalid_0's l2: 0.0326052\n",
            "[35]\tvalid_0's l2: 0.0324586\tvalid_0's l2: 0.0324586\n",
            "[36]\tvalid_0's l2: 0.0322551\tvalid_0's l2: 0.0322551\n",
            "[37]\tvalid_0's l2: 0.0321031\tvalid_0's l2: 0.0321031\n",
            "[38]\tvalid_0's l2: 0.0319543\tvalid_0's l2: 0.0319543\n",
            "[39]\tvalid_0's l2: 0.0318247\tvalid_0's l2: 0.0318247\n",
            "[40]\tvalid_0's l2: 0.0316887\tvalid_0's l2: 0.0316887\n",
            "[41]\tvalid_0's l2: 0.0315956\tvalid_0's l2: 0.0315956\n",
            "[42]\tvalid_0's l2: 0.0314714\tvalid_0's l2: 0.0314714\n",
            "[43]\tvalid_0's l2: 0.0313779\tvalid_0's l2: 0.0313779\n",
            "[44]\tvalid_0's l2: 0.0312221\tvalid_0's l2: 0.0312221\n",
            "[45]\tvalid_0's l2: 0.0311409\tvalid_0's l2: 0.0311409\n",
            "[46]\tvalid_0's l2: 0.0310722\tvalid_0's l2: 0.0310722\n",
            "[47]\tvalid_0's l2: 0.0310103\tvalid_0's l2: 0.0310103\n",
            "[48]\tvalid_0's l2: 0.0309365\tvalid_0's l2: 0.0309365\n",
            "[49]\tvalid_0's l2: 0.0308269\tvalid_0's l2: 0.0308269\n",
            "[50]\tvalid_0's l2: 0.03078\tvalid_0's l2: 0.03078\n",
            "[51]\tvalid_0's l2: 0.0307186\tvalid_0's l2: 0.0307186\n",
            "[52]\tvalid_0's l2: 0.0306351\tvalid_0's l2: 0.0306351\n",
            "[53]\tvalid_0's l2: 0.0305795\tvalid_0's l2: 0.0305795\n",
            "[54]\tvalid_0's l2: 0.0305471\tvalid_0's l2: 0.0305471\n",
            "[55]\tvalid_0's l2: 0.0305075\tvalid_0's l2: 0.0305075\n",
            "[56]\tvalid_0's l2: 0.0304237\tvalid_0's l2: 0.0304237\n",
            "[57]\tvalid_0's l2: 0.0303885\tvalid_0's l2: 0.0303885\n",
            "[58]\tvalid_0's l2: 0.0303357\tvalid_0's l2: 0.0303357\n",
            "[59]\tvalid_0's l2: 0.0302646\tvalid_0's l2: 0.0302646\n",
            "[60]\tvalid_0's l2: 0.0302412\tvalid_0's l2: 0.0302412\n",
            "[61]\tvalid_0's l2: 0.0302254\tvalid_0's l2: 0.0302254\n",
            "[62]\tvalid_0's l2: 0.0302006\tvalid_0's l2: 0.0302006\n",
            "[63]\tvalid_0's l2: 0.0302058\tvalid_0's l2: 0.0302058\n",
            "[64]\tvalid_0's l2: 0.030197\tvalid_0's l2: 0.030197\n",
            "[65]\tvalid_0's l2: 0.0301136\tvalid_0's l2: 0.0301136\n",
            "[66]\tvalid_0's l2: 0.0300488\tvalid_0's l2: 0.0300488\n",
            "[67]\tvalid_0's l2: 0.0300241\tvalid_0's l2: 0.0300241\n",
            "[68]\tvalid_0's l2: 0.0299727\tvalid_0's l2: 0.0299727\n",
            "[69]\tvalid_0's l2: 0.0299396\tvalid_0's l2: 0.0299396\n",
            "[70]\tvalid_0's l2: 0.0299222\tvalid_0's l2: 0.0299222\n",
            "[71]\tvalid_0's l2: 0.0299162\tvalid_0's l2: 0.0299162\n",
            "[72]\tvalid_0's l2: 0.0298626\tvalid_0's l2: 0.0298626\n",
            "[73]\tvalid_0's l2: 0.0298659\tvalid_0's l2: 0.0298659\n",
            "[74]\tvalid_0's l2: 0.0298464\tvalid_0's l2: 0.0298464\n",
            "[75]\tvalid_0's l2: 0.0298261\tvalid_0's l2: 0.0298261\n",
            "[76]\tvalid_0's l2: 0.0298005\tvalid_0's l2: 0.0298005\n",
            "[77]\tvalid_0's l2: 0.0297683\tvalid_0's l2: 0.0297683\n",
            "[78]\tvalid_0's l2: 0.0297549\tvalid_0's l2: 0.0297549\n",
            "[79]\tvalid_0's l2: 0.0297234\tvalid_0's l2: 0.0297234\n",
            "[80]\tvalid_0's l2: 0.0297032\tvalid_0's l2: 0.0297032\n",
            "[81]\tvalid_0's l2: 0.0296658\tvalid_0's l2: 0.0296658\n",
            "[82]\tvalid_0's l2: 0.0296732\tvalid_0's l2: 0.0296732\n",
            "[83]\tvalid_0's l2: 0.0296651\tvalid_0's l2: 0.0296651\n",
            "[84]\tvalid_0's l2: 0.0296423\tvalid_0's l2: 0.0296423\n",
            "[85]\tvalid_0's l2: 0.0296292\tvalid_0's l2: 0.0296292\n",
            "[86]\tvalid_0's l2: 0.0296191\tvalid_0's l2: 0.0296191\n",
            "[87]\tvalid_0's l2: 0.0295969\tvalid_0's l2: 0.0295969\n",
            "[88]\tvalid_0's l2: 0.0295707\tvalid_0's l2: 0.0295707\n",
            "[89]\tvalid_0's l2: 0.0295854\tvalid_0's l2: 0.0295854\n",
            "[90]\tvalid_0's l2: 0.029583\tvalid_0's l2: 0.029583\n",
            "[91]\tvalid_0's l2: 0.0295406\tvalid_0's l2: 0.0295406\n",
            "[92]\tvalid_0's l2: 0.0295395\tvalid_0's l2: 0.0295395\n",
            "[93]\tvalid_0's l2: 0.0295216\tvalid_0's l2: 0.0295216\n",
            "[94]\tvalid_0's l2: 0.0295389\tvalid_0's l2: 0.0295389\n",
            "[95]\tvalid_0's l2: 0.0295439\tvalid_0's l2: 0.0295439\n",
            "[96]\tvalid_0's l2: 0.0295367\tvalid_0's l2: 0.0295367\n",
            "[97]\tvalid_0's l2: 0.0295192\tvalid_0's l2: 0.0295192\n",
            "[98]\tvalid_0's l2: 0.0294883\tvalid_0's l2: 0.0294883\n",
            "[99]\tvalid_0's l2: 0.0294743\tvalid_0's l2: 0.0294743\n",
            "[100]\tvalid_0's l2: 0.0294852\tvalid_0's l2: 0.0294852\n",
            "Did not meet early stopping. Best iteration is:\n",
            "[99]\tvalid_0's l2: 0.0294743\tvalid_0's l2: 0.0294743\n",
            "Starting predicting...\n",
            "The RMSE of prediction is: 0.1716806776347261\n"
          ]
        }
      ]
    },
    {
      "cell_type": "code",
      "source": [
        "lgb.plot_importance(predictor)"
      ],
      "metadata": {
        "colab": {
          "base_uri": "https://localhost:8080/",
          "height": 312
        },
        "id": "pjPK0DpR4RcU",
        "outputId": "7e52a9c5-e636-4da3-f471-be1bbdfe5a27"
      },
      "execution_count": 268,
      "outputs": [
        {
          "output_type": "execute_result",
          "data": {
            "text/plain": [
              "<matplotlib.axes._subplots.AxesSubplot at 0x7f14463abb50>"
            ]
          },
          "metadata": {},
          "execution_count": 268
        },
        {
          "output_type": "display_data",
          "data": {
            "text/plain": [
              "<Figure size 432x288 with 1 Axes>"
            ],
            "image/png": "[encoded data removed]"
          },
          "metadata": {
            "needs_background": "light"
          }
        }
      ]
    },
    {
      "cell_type": "markdown",
      "source": [
        "**End Of Second Attempt:**\n",
        "FINAL RMSE VALUE OF 0.1716806776347261"
      ],
      "metadata": {
        "id": "HZCAklViZ3Sq"
      }
    },
    {
      "cell_type": "markdown",
      "source": [
        "**Third Attempt:**\n",
        "----------------------------\n",
        "RMSE VALUE OF 0.1508279943760018\n"
      ],
      "metadata": {
        "id": "dCTxzMO0aBin"
      }
    },
    {
      "cell_type": "code",
      "source": [
        "columns3 = ['Sold Price', 'Sold On', 'Type', 'Year built', 'Bedrooms','Cooling','Heating','Parking','HighSchoolDistrict','Zip']\n",
        "df4 = data[columns3].copy()\n",
        "\n",
        "df4.dtypes"
      ],
      "metadata": {
        "colab": {
          "base_uri": "https://localhost:8080/"
        },
        "id": "AY1uQPbqbH6w",
        "outputId": "0339b018-9130-4c5c-c6b8-828f1a4835ce"
      },
      "execution_count": 269,
      "outputs": [
        {
          "output_type": "execute_result",
          "data": {
            "text/plain": [
              "Sold Price            object\n",
              "Sold On               object\n",
              "Type                  object\n",
              "Year built            object\n",
              "Bedrooms              object\n",
              "Cooling               object\n",
              "Heating               object\n",
              "Parking               object\n",
              "HighSchoolDistrict    object\n",
              "Zip                   object\n",
              "dtype: object"
            ]
          },
          "metadata": {},
          "execution_count": 269
        }
      ]
    },
    {
      "cell_type": "code",
      "source": [
        "df4['Year built'] = df['Year built']\n",
        "df4['Sold Price'] = df['Sold Price']\n",
        "df4['Type'] = df['Type']\n",
        "df4['Sold On'] = df['Sold On']\n",
        "df4['Bedrooms'] = df['Bedrooms']\n",
        "df4 = df4[df4['Zip'] != 'No Data']\n",
        "df4 = df4[df4['Cooling'] != 'No Data']\n",
        "df4 = df4[df4['Heating'] != 'No Data']\n",
        "df4 = df4[df4['Parking'] != 'No Data']\n",
        "df4 = df4[df4['HighSchoolDistrict'] != 'No Data']\n",
        "df4 = df4[df4['Cooling'].isin(['None', 'Central Air', 'Central', 'Central AC','Other'])]\n",
        "df4['Cooling'] = df4['Cooling'].astype('category').cat.codes\n",
        "df4 = df4[df4['Heating'].isin(['Central', 'Forced air', 'Central Forced Air', 'Forced air, Gas'])]\n",
        "df4['Heating'] = df4['Heating'].astype('category').cat.codes\n",
        "df4 = df4[df4['Parking'].isin(['Garage, Garage - Attached, Covered','Garage - Attached', 'Garage', 'Garage, Garage - Attached', '0 spaces'])]\n",
        "df4['Parking'] = df4['Parking'].astype('category').cat.codes\n",
        "df4['HighSchoolDistrict'] = df4['HighSchoolDistrict'].astype('category').cat.codes\n",
        "df4['Zip'] = df4['Zip'].astype('category').cat.codes\n",
        "\n",
        "df4.dtypes"
      ],
      "metadata": {
        "colab": {
          "base_uri": "https://localhost:8080/"
        },
        "id": "3TDTuVtCbWrf",
        "outputId": "fee8cc42-5852-4190-a2be-afcd8cb6f781"
      },
      "execution_count": 270,
      "outputs": [
        {
          "output_type": "execute_result",
          "data": {
            "text/plain": [
              "Sold Price                   float64\n",
              "Sold On               datetime64[ns]\n",
              "Type                         float64\n",
              "Year built                   float64\n",
              "Bedrooms                     float64\n",
              "Cooling                         int8\n",
              "Heating                         int8\n",
              "Parking                         int8\n",
              "HighSchoolDistrict              int8\n",
              "Zip                            int16\n",
              "dtype: object"
            ]
          },
          "metadata": {},
          "execution_count": 270
        }
      ]
    },
    {
      "cell_type": "code",
      "source": [
        "df4.fillna(0)"
      ],
      "metadata": {
        "colab": {
          "base_uri": "https://localhost:8080/",
          "height": 423
        },
        "id": "BNwPmKn-bmKP",
        "outputId": "93075db8-fc75-4cff-8d40-5b00563b0352"
      },
      "execution_count": 271,
      "outputs": [
        {
          "output_type": "execute_result",
          "data": {
            "text/plain": [
              "        Sold Price              Sold On  Type  Year built  Bedrooms  Cooling  \\\n",
              "5         6.114278  2021-02-24 00:00:00   3.0      1966.0       3.0        3   \n",
              "6         0.000000                    0   0.0         0.0       0.0        0   \n",
              "8         5.900368  2021-01-30 00:00:00   2.0      1939.0       2.0        2   \n",
              "14        6.113944  2020-09-03 00:00:00   2.0      1962.0       4.0        4   \n",
              "17        6.505150  2019-11-22 00:00:00   2.0      2019.0       5.0        0   \n",
              "...            ...                  ...   ...         ...       ...      ...   \n",
              "164924    5.688937  2020-12-11 00:00:00   2.0      2020.0       3.0        2   \n",
              "164930    0.000000                    0   0.0         0.0       0.0        3   \n",
              "164931    6.356982  2020-08-20 00:00:00   1.0      1992.0       4.0        3   \n",
              "164937    5.537820  2021-02-03 00:00:00   0.0      1971.0       2.0        0   \n",
              "164938    6.146128  2020-07-06 00:00:00   3.0      1985.0       2.0        3   \n",
              "\n",
              "        Heating  Parking  HighSchoolDistrict  Zip  \n",
              "5             0        2                  -1  101  \n",
              "6             3        4                  -1  874  \n",
              "8             0        1                  -1  286  \n",
              "14            1        4                  -1  832  \n",
              "17            0        4                  -1   59  \n",
              "...         ...      ...                 ...  ...  \n",
              "164924        0        2                  -1  587  \n",
              "164930        2        4                  -1  868  \n",
              "164931        3        4                  -1  719  \n",
              "164937        2        4                  -1  756  \n",
              "164938        1        4                  -1  701  \n",
              "\n",
              "[17531 rows x 10 columns]"
            ],
            "text/html": [
              "\n",
              "  <div id=\"df-8627039c-cd8c-4d9f-a333-0be6f23628b6\">\n",
              "    <div class=\"colab-df-container\">\n",
              "      <div>\n",
              "<style scoped>\n",
              "    .dataframe tbody tr th:only-of-type {\n",
              "        vertical-align: middle;\n",
              "    }\n",
              "\n",
              "    .dataframe tbody tr th {\n",
              "        vertical-align: top;\n",
              "    }\n",
              "\n",
              "    .dataframe thead th {\n",
              "        text-align: right;\n",
              "    }\n",
              "</style>\n",
              "<table border=\"1\" class=\"dataframe\">\n",
              "  <thead>\n",
              "    <tr style=\"text-align: right;\">\n",
              "      <th></th>\n",
              "      <th>Sold Price</th>\n",
              "      <th>Sold On</th>\n",
              "      <th>Type</th>\n",
              "      <th>Year built</th>\n",
              "      <th>Bedrooms</th>\n",
              "      <th>Cooling</th>\n",
              "      <th>Heating</th>\n",
              "      <th>Parking</th>\n",
              "      <th>HighSchoolDistrict</th>\n",
              "      <th>Zip</th>\n",
              "    </tr>\n",
              "  </thead>\n",
              "  <tbody>\n",
              "    <tr>\n",
              "      <th>5</th>\n",
              "      <td>6.114278</td>\n",
              "      <td>2021-02-24 00:00:00</td>\n",
              "      <td>3.0</td>\n",
              "      <td>1966.0</td>\n",
              "      <td>3.0</td>\n",
              "      <td>3</td>\n",
              "      <td>0</td>\n",
              "      <td>2</td>\n",
              "      <td>-1</td>\n",
              "      <td>101</td>\n",
              "    </tr>\n",
              "    <tr>\n",
              "      <th>6</th>\n",
              "      <td>0.000000</td>\n",
              "      <td>0</td>\n",
              "      <td>0.0</td>\n",
              "      <td>0.0</td>\n",
              "      <td>0.0</td>\n",
              "      <td>0</td>\n",
              "      <td>3</td>\n",
              "      <td>4</td>\n",
              "      <td>-1</td>\n",
              "      <td>874</td>\n",
              "    </tr>\n",
              "    <tr>\n",
              "      <th>8</th>\n",
              "      <td>5.900368</td>\n",
              "      <td>2021-01-30 00:00:00</td>\n",
              "      <td>2.0</td>\n",
              "      <td>1939.0</td>\n",
              "      <td>2.0</td>\n",
              "      <td>2</td>\n",
              "      <td>0</td>\n",
              "      <td>1</td>\n",
              "      <td>-1</td>\n",
              "      <td>286</td>\n",
              "    </tr>\n",
              "    <tr>\n",
              "      <th>14</th>\n",
              "      <td>6.113944</td>\n",
              "      <td>2020-09-03 00:00:00</td>\n",
              "      <td>2.0</td>\n",
              "      <td>1962.0</td>\n",
              "      <td>4.0</td>\n",
              "      <td>4</td>\n",
              "      <td>1</td>\n",
              "      <td>4</td>\n",
              "      <td>-1</td>\n",
              "      <td>832</td>\n",
              "    </tr>\n",
              "    <tr>\n",
              "      <th>17</th>\n",
              "      <td>6.505150</td>\n",
              "      <td>2019-11-22 00:00:00</td>\n",
              "      <td>2.0</td>\n",
              "      <td>2019.0</td>\n",
              "      <td>5.0</td>\n",
              "      <td>0</td>\n",
              "      <td>0</td>\n",
              "      <td>4</td>\n",
              "      <td>-1</td>\n",
              "      <td>59</td>\n",
              "    </tr>\n",
              "    <tr>\n",
              "      <th>...</th>\n",
              "      <td>...</td>\n",
              "      <td>...</td>\n",
              "      <td>...</td>\n",
              "      <td>...</td>\n",
              "      <td>...</td>\n",
              "      <td>...</td>\n",
              "      <td>...</td>\n",
              "      <td>...</td>\n",
              "      <td>...</td>\n",
              "      <td>...</td>\n",
              "    </tr>\n",
              "    <tr>\n",
              "      <th>164924</th>\n",
              "      <td>5.688937</td>\n",
              "      <td>2020-12-11 00:00:00</td>\n",
              "      <td>2.0</td>\n",
              "      <td>2020.0</td>\n",
              "      <td>3.0</td>\n",
              "      <td>2</td>\n",
              "      <td>0</td>\n",
              "      <td>2</td>\n",
              "      <td>-1</td>\n",
              "      <td>587</td>\n",
              "    </tr>\n",
              "    <tr>\n",
              "      <th>164930</th>\n",
              "      <td>0.000000</td>\n",
              "      <td>0</td>\n",
              "      <td>0.0</td>\n",
              "      <td>0.0</td>\n",
              "      <td>0.0</td>\n",
              "      <td>3</td>\n",
              "      <td>2</td>\n",
              "      <td>4</td>\n",
              "      <td>-1</td>\n",
              "      <td>868</td>\n",
              "    </tr>\n",
              "    <tr>\n",
              "      <th>164931</th>\n",
              "      <td>6.356982</td>\n",
              "      <td>2020-08-20 00:00:00</td>\n",
              "      <td>1.0</td>\n",
              "      <td>1992.0</td>\n",
              "      <td>4.0</td>\n",
              "      <td>3</td>\n",
              "      <td>3</td>\n",
              "      <td>4</td>\n",
              "      <td>-1</td>\n",
              "      <td>719</td>\n",
              "    </tr>\n",
              "    <tr>\n",
              "      <th>164937</th>\n",
              "      <td>5.537820</td>\n",
              "      <td>2021-02-03 00:00:00</td>\n",
              "      <td>0.0</td>\n",
              "      <td>1971.0</td>\n",
              "      <td>2.0</td>\n",
              "      <td>0</td>\n",
              "      <td>2</td>\n",
              "      <td>4</td>\n",
              "      <td>-1</td>\n",
              "      <td>756</td>\n",
              "    </tr>\n",
              "    <tr>\n",
              "      <th>164938</th>\n",
              "      <td>6.146128</td>\n",
              "      <td>2020-07-06 00:00:00</td>\n",
              "      <td>3.0</td>\n",
              "      <td>1985.0</td>\n",
              "      <td>2.0</td>\n",
              "      <td>3</td>\n",
              "      <td>1</td>\n",
              "      <td>4</td>\n",
              "      <td>-1</td>\n",
              "      <td>701</td>\n",
              "    </tr>\n",
              "  </tbody>\n",
              "</table>\n",
              "<p>17531 rows × 10 columns</p>\n",
              "</div>\n",
              "      <button class=\"colab-df-convert\" onclick=\"convertToInteractive('df-8627039c-cd8c-4d9f-a333-0be6f23628b6')\"\n",
              "              title=\"Convert this dataframe to an interactive table.\"\n",
              "              style=\"display:none;\">\n",
              "        \n",
              "  <svg xmlns=\"http://www.w3.org/2000/svg\" height=\"24px\"viewBox=\"0 0 24 24\"\n",
              "       width=\"24px\">\n",
              "    <path d=\"M0 0h24v24H0V0z\" fill=\"none\"/>\n",
              "    <path d=\"M18.56 5.44l.94 2.06.94-2.06 2.06-.94-2.06-.94-.94-2.06-.94 2.06-2.06.94zm-11 1L8.5 8.5l.94-2.06 2.06-.94-2.06-.94L8.5 2.5l-.94 2.06-2.06.94zm10 10l.94 2.06.94-2.06 2.06-.94-2.06-.94-.94-2.06-.94 2.06-2.06.94z\"/><path d=\"M17.41 7.96l-1.37-1.37c-.4-.4-.92-.59-1.43-.59-.52 0-1.04.2-1.43.59L10.3 9.45l-7.72 7.72c-.78.78-.78 2.05 0 2.83L4 21.41c.39.39.9.59 1.41.59.51 0 1.02-.2 1.41-.59l7.78-7.78 2.81-2.81c.8-.78.8-2.07 0-2.86zM5.41 20L4 18.59l7.72-7.72 1.47 1.35L5.41 20z\"/>\n",
              "  </svg>\n",
              "      </button>\n",
              "      \n",
              "  <style>\n",
              "    .colab-df-container {\n",
              "      display:flex;\n",
              "      flex-wrap:wrap;\n",
              "      gap: 12px;\n",
              "    }\n",
              "\n",
              "    .colab-df-convert {\n",
              "      background-color: #E8F0FE;\n",
              "      border: none;\n",
              "      border-radius: 50%;\n",
              "      cursor: pointer;\n",
              "      display: none;\n",
              "      fill: #1967D2;\n",
              "      height: 32px;\n",
              "      padding: 0 0 0 0;\n",
              "      width: 32px;\n",
              "    }\n",
              "\n",
              "    .colab-df-convert:hover {\n",
              "      background-color: #E2EBFA;\n",
              "      box-shadow: 0px 1px 2px rgba(60, 64, 67, 0.3), 0px 1px 3px 1px rgba(60, 64, 67, 0.15);\n",
              "      fill: #174EA6;\n",
              "    }\n",
              "\n",
              "    [theme=dark] .colab-df-convert {\n",
              "      background-color: #3B4455;\n",
              "      fill: #D2E3FC;\n",
              "    }\n",
              "\n",
              "    [theme=dark] .colab-df-convert:hover {\n",
              "      background-color: #434B5C;\n",
              "      box-shadow: 0px 1px 3px 1px rgba(0, 0, 0, 0.15);\n",
              "      filter: drop-shadow(0px 1px 2px rgba(0, 0, 0, 0.3));\n",
              "      fill: #FFFFFF;\n",
              "    }\n",
              "  </style>\n",
              "\n",
              "      <script>\n",
              "        const buttonEl =\n",
              "          document.querySelector('#df-8627039c-cd8c-4d9f-a333-0be6f23628b6 button.colab-df-convert');\n",
              "        buttonEl.style.display =\n",
              "          google.colab.kernel.accessAllowed ? 'block' : 'none';\n",
              "\n",
              "        async function convertToInteractive(key) {\n",
              "          const element = document.querySelector('#df-8627039c-cd8c-4d9f-a333-0be6f23628b6');\n",
              "          const dataTable =\n",
              "            await google.colab.kernel.invokeFunction('convertToInteractive',\n",
              "                                                     [key], {});\n",
              "          if (!dataTable) return;\n",
              "\n",
              "          const docLinkHtml = 'Like what you see? Visit the ' +\n",
              "            '<a target=\"_blank\" href=https://colab.research.google.com/notebooks/data_table.ipynb>data table notebook</a>'\n",
              "            + ' to learn more about interactive tables.';\n",
              "          element.innerHTML = '';\n",
              "          dataTable['output_type'] = 'display_data';\n",
              "          await google.colab.output.renderOutput(dataTable, element);\n",
              "          const docLink = document.createElement('div');\n",
              "          docLink.innerHTML = docLinkHtml;\n",
              "          element.appendChild(docLink);\n",
              "        }\n",
              "      </script>\n",
              "    </div>\n",
              "  </div>\n",
              "  "
            ]
          },
          "metadata": {},
          "execution_count": 271
        }
      ]
    },
    {
      "cell_type": "code",
      "source": [
        "train, test = split_data(df4, pd.Timestamp(2020, 4, 1))"
      ],
      "metadata": {
        "id": "aHnl-P9Bbn_7"
      },
      "execution_count": 272,
      "outputs": []
    },
    {
      "cell_type": "code",
      "source": [
        "\n",
        "features = ['Type', 'Year built', 'Bedrooms','Cooling','Heating','Parking','HighSchoolDistrict','Zip']\n",
        "X_train, y_train, X_test, y_test = prepare_train_test(train, test, features)"
      ],
      "metadata": {
        "id": "sFo2UvzMbypV"
      },
      "execution_count": 273,
      "outputs": []
    },
    {
      "cell_type": "code",
      "source": [
        "predictor = modeling(X_train, y_train, X_test, y_test)"
      ],
      "metadata": {
        "colab": {
          "base_uri": "https://localhost:8080/"
        },
        "id": "4sp-psWUb48x",
        "outputId": "f0a6df78-afa0-4cb6-aa8f-50e1c5476185"
      },
      "execution_count": 274,
      "outputs": [
        {
          "output_type": "stream",
          "name": "stdout",
          "text": [
            "Starting training...\n",
            "[1]\tvalid_0's l2: 0.0594682\tvalid_0's l2: 0.0594682\n",
            "Training until validation scores don't improve for 5 rounds.\n",
            "[2]\tvalid_0's l2: 0.0560485\tvalid_0's l2: 0.0560485\n",
            "[3]\tvalid_0's l2: 0.0529832\tvalid_0's l2: 0.0529832\n",
            "[4]\tvalid_0's l2: 0.0502172\tvalid_0's l2: 0.0502172\n",
            "[5]\tvalid_0's l2: 0.0475985\tvalid_0's l2: 0.0475985\n",
            "[6]\tvalid_0's l2: 0.0454665\tvalid_0's l2: 0.0454665\n",
            "[7]\tvalid_0's l2: 0.043287\tvalid_0's l2: 0.043287\n",
            "[8]\tvalid_0's l2: 0.0412656\tvalid_0's l2: 0.0412656\n",
            "[9]\tvalid_0's l2: 0.0396341\tvalid_0's l2: 0.0396341\n",
            "[10]\tvalid_0's l2: 0.0380474\tvalid_0's l2: 0.0380474\n",
            "[11]\tvalid_0's l2: 0.0366388\tvalid_0's l2: 0.0366388\n",
            "[12]\tvalid_0's l2: 0.0353175\tvalid_0's l2: 0.0353175\n",
            "[13]\tvalid_0's l2: 0.0341871\tvalid_0's l2: 0.0341871\n",
            "[14]\tvalid_0's l2: 0.0331819\tvalid_0's l2: 0.0331819\n",
            "[15]\tvalid_0's l2: 0.032329\tvalid_0's l2: 0.032329\n",
            "[16]\tvalid_0's l2: 0.0316105\tvalid_0's l2: 0.0316105\n",
            "[17]\tvalid_0's l2: 0.0308891\tvalid_0's l2: 0.0308891\n",
            "[18]\tvalid_0's l2: 0.0302557\tvalid_0's l2: 0.0302557\n",
            "[19]\tvalid_0's l2: 0.0296855\tvalid_0's l2: 0.0296855\n",
            "[20]\tvalid_0's l2: 0.0292127\tvalid_0's l2: 0.0292127\n",
            "[21]\tvalid_0's l2: 0.0287245\tvalid_0's l2: 0.0287245\n",
            "[22]\tvalid_0's l2: 0.0282425\tvalid_0's l2: 0.0282425\n",
            "[23]\tvalid_0's l2: 0.0278242\tvalid_0's l2: 0.0278242\n",
            "[24]\tvalid_0's l2: 0.0274605\tvalid_0's l2: 0.0274605\n",
            "[25]\tvalid_0's l2: 0.0271704\tvalid_0's l2: 0.0271704\n",
            "[26]\tvalid_0's l2: 0.0268601\tvalid_0's l2: 0.0268601\n",
            "[27]\tvalid_0's l2: 0.0266184\tvalid_0's l2: 0.0266184\n",
            "[28]\tvalid_0's l2: 0.0263916\tvalid_0's l2: 0.0263916\n",
            "[29]\tvalid_0's l2: 0.0261642\tvalid_0's l2: 0.0261642\n",
            "[30]\tvalid_0's l2: 0.0259708\tvalid_0's l2: 0.0259708\n",
            "[31]\tvalid_0's l2: 0.0257455\tvalid_0's l2: 0.0257455\n",
            "[32]\tvalid_0's l2: 0.0255418\tvalid_0's l2: 0.0255418\n",
            "[33]\tvalid_0's l2: 0.0253427\tvalid_0's l2: 0.0253427\n",
            "[34]\tvalid_0's l2: 0.0252102\tvalid_0's l2: 0.0252102\n",
            "[35]\tvalid_0's l2: 0.0250339\tvalid_0's l2: 0.0250339\n",
            "[36]\tvalid_0's l2: 0.0249358\tvalid_0's l2: 0.0249358\n",
            "[37]\tvalid_0's l2: 0.0247579\tvalid_0's l2: 0.0247579\n",
            "[38]\tvalid_0's l2: 0.024599\tvalid_0's l2: 0.024599\n",
            "[39]\tvalid_0's l2: 0.0244788\tvalid_0's l2: 0.0244788\n",
            "[40]\tvalid_0's l2: 0.0243634\tvalid_0's l2: 0.0243634\n",
            "[41]\tvalid_0's l2: 0.0242648\tvalid_0's l2: 0.0242648\n",
            "[42]\tvalid_0's l2: 0.0242165\tvalid_0's l2: 0.0242165\n",
            "[43]\tvalid_0's l2: 0.0241018\tvalid_0's l2: 0.0241018\n",
            "[44]\tvalid_0's l2: 0.0240551\tvalid_0's l2: 0.0240551\n",
            "[45]\tvalid_0's l2: 0.0239534\tvalid_0's l2: 0.0239534\n",
            "[46]\tvalid_0's l2: 0.0238799\tvalid_0's l2: 0.0238799\n",
            "[47]\tvalid_0's l2: 0.0238186\tvalid_0's l2: 0.0238186\n",
            "[48]\tvalid_0's l2: 0.0237496\tvalid_0's l2: 0.0237496\n",
            "[49]\tvalid_0's l2: 0.0237121\tvalid_0's l2: 0.0237121\n",
            "[50]\tvalid_0's l2: 0.0236781\tvalid_0's l2: 0.0236781\n",
            "[51]\tvalid_0's l2: 0.0236181\tvalid_0's l2: 0.0236181\n",
            "[52]\tvalid_0's l2: 0.0235713\tvalid_0's l2: 0.0235713\n",
            "[53]\tvalid_0's l2: 0.0235131\tvalid_0's l2: 0.0235131\n",
            "[54]\tvalid_0's l2: 0.0235082\tvalid_0's l2: 0.0235082\n",
            "[55]\tvalid_0's l2: 0.0234247\tvalid_0's l2: 0.0234247\n",
            "[56]\tvalid_0's l2: 0.0233719\tvalid_0's l2: 0.0233719\n",
            "[57]\tvalid_0's l2: 0.0233462\tvalid_0's l2: 0.0233462\n",
            "[58]\tvalid_0's l2: 0.0233568\tvalid_0's l2: 0.0233568\n",
            "[59]\tvalid_0's l2: 0.0233292\tvalid_0's l2: 0.0233292\n",
            "[60]\tvalid_0's l2: 0.0232891\tvalid_0's l2: 0.0232891\n",
            "[61]\tvalid_0's l2: 0.0232781\tvalid_0's l2: 0.0232781\n",
            "[62]\tvalid_0's l2: 0.0232908\tvalid_0's l2: 0.0232908\n",
            "[63]\tvalid_0's l2: 0.0232539\tvalid_0's l2: 0.0232539\n",
            "[64]\tvalid_0's l2: 0.0232262\tvalid_0's l2: 0.0232262\n",
            "[65]\tvalid_0's l2: 0.0232314\tvalid_0's l2: 0.0232314\n",
            "[66]\tvalid_0's l2: 0.0231783\tvalid_0's l2: 0.0231783\n",
            "[67]\tvalid_0's l2: 0.0230925\tvalid_0's l2: 0.0230925\n",
            "[68]\tvalid_0's l2: 0.0230774\tvalid_0's l2: 0.0230774\n",
            "[69]\tvalid_0's l2: 0.0230605\tvalid_0's l2: 0.0230605\n",
            "[70]\tvalid_0's l2: 0.0230406\tvalid_0's l2: 0.0230406\n",
            "[71]\tvalid_0's l2: 0.0230376\tvalid_0's l2: 0.0230376\n",
            "[72]\tvalid_0's l2: 0.0230272\tvalid_0's l2: 0.0230272\n",
            "[73]\tvalid_0's l2: 0.0230332\tvalid_0's l2: 0.0230332\n",
            "[74]\tvalid_0's l2: 0.0230149\tvalid_0's l2: 0.0230149\n",
            "[75]\tvalid_0's l2: 0.0229853\tvalid_0's l2: 0.0229853\n",
            "[76]\tvalid_0's l2: 0.0229319\tvalid_0's l2: 0.0229319\n",
            "[77]\tvalid_0's l2: 0.0229129\tvalid_0's l2: 0.0229129\n",
            "[78]\tvalid_0's l2: 0.0229015\tvalid_0's l2: 0.0229015\n",
            "[79]\tvalid_0's l2: 0.0228723\tvalid_0's l2: 0.0228723\n",
            "[80]\tvalid_0's l2: 0.0228882\tvalid_0's l2: 0.0228882\n",
            "[81]\tvalid_0's l2: 0.0228474\tvalid_0's l2: 0.0228474\n",
            "[82]\tvalid_0's l2: 0.0228279\tvalid_0's l2: 0.0228279\n",
            "[83]\tvalid_0's l2: 0.0228207\tvalid_0's l2: 0.0228207\n",
            "[84]\tvalid_0's l2: 0.0227892\tvalid_0's l2: 0.0227892\n",
            "[85]\tvalid_0's l2: 0.0227842\tvalid_0's l2: 0.0227842\n",
            "[86]\tvalid_0's l2: 0.0228021\tvalid_0's l2: 0.0228021\n",
            "[87]\tvalid_0's l2: 0.0227666\tvalid_0's l2: 0.0227666\n",
            "[88]\tvalid_0's l2: 0.0227624\tvalid_0's l2: 0.0227624\n",
            "[89]\tvalid_0's l2: 0.0227621\tvalid_0's l2: 0.0227621\n",
            "[90]\tvalid_0's l2: 0.0227505\tvalid_0's l2: 0.0227505\n",
            "[91]\tvalid_0's l2: 0.0227491\tvalid_0's l2: 0.0227491\n",
            "[92]\tvalid_0's l2: 0.022778\tvalid_0's l2: 0.022778\n",
            "[93]\tvalid_0's l2: 0.0227645\tvalid_0's l2: 0.0227645\n",
            "[94]\tvalid_0's l2: 0.0227683\tvalid_0's l2: 0.0227683\n",
            "[95]\tvalid_0's l2: 0.0227598\tvalid_0's l2: 0.0227598\n",
            "[96]\tvalid_0's l2: 0.0227789\tvalid_0's l2: 0.0227789\n",
            "Early stopping, best iteration is:\n",
            "[91]\tvalid_0's l2: 0.0227491\tvalid_0's l2: 0.0227491\n",
            "Starting predicting...\n",
            "The RMSE of prediction is: 0.1508279943760018\n"
          ]
        }
      ]
    },
    {
      "cell_type": "code",
      "source": [
        "lgb.plot_importance(predictor)"
      ],
      "metadata": {
        "colab": {
          "base_uri": "https://localhost:8080/",
          "height": 312
        },
        "id": "VgJKc9pBcA0s",
        "outputId": "1c2d3b8e-1d41-4f23-8027-02360f065e1a"
      },
      "execution_count": 275,
      "outputs": [
        {
          "output_type": "execute_result",
          "data": {
            "text/plain": [
              "<matplotlib.axes._subplots.AxesSubplot at 0x7f14463abd60>"
            ]
          },
          "metadata": {},
          "execution_count": 275
        },
        {
          "output_type": "display_data",
          "data": {
            "text/plain": [
              "<Figure size 432x288 with 1 Axes>"
            ],
            "image/png": "[encoded data removed]"
          },
          "metadata": {
            "needs_background": "light"
          }
        }
      ]
    },
    {
      "cell_type": "markdown",
      "source": [
        "**End Of Third Attempt:**\n",
        "FINAL RMSE VALUE OF 0.1508279943760018\n"
      ],
      "metadata": {
        "id": "bHa80MxKcHLT"
      }
    },
    {
      "cell_type": "markdown",
      "source": [
        "**Fourth Attempt:**\n",
        "----------------------------\n",
        "RMSE VALUE OF 0.19101312026171277\n"
      ],
      "metadata": {
        "id": "c6nXEwwpeF9S"
      }
    },
    {
      "cell_type": "code",
      "source": [
        "columns5 = ['Sold Price', 'Sold On', 'Type', 'Year built', 'Bedrooms','Zip','Flooring']\n",
        "df5 = data[columns5].copy()\n",
        "\n"
      ],
      "metadata": {
        "id": "hHUMMjw9eHe4"
      },
      "execution_count": 276,
      "outputs": []
    },
    {
      "cell_type": "code",
      "source": [
        "df5['Year built'] = df['Year built']\n",
        "df5['Sold Price'] = df['Sold Price']\n",
        "df5['Type'] = df['Type']\n",
        "df5['Sold On'] = df['Sold On']\n",
        "df5['Bedrooms'] = df['Bedrooms']\n",
        "df5 = df5[df5['Zip'] != 'No Data']\n",
        "df5['Zip'] = df5['Zip'].astype('category').cat.codes\n",
        "df5['Flooring'] = df5['Flooring'].astype('category').cat.codes\n",
        "len(df5)"
      ],
      "metadata": {
        "colab": {
          "base_uri": "https://localhost:8080/"
        },
        "id": "CV_cuM34fbey",
        "outputId": "f35f49e9-a697-4419-bf36-1976e5f92818"
      },
      "execution_count": 277,
      "outputs": [
        {
          "output_type": "execute_result",
          "data": {
            "text/plain": [
              "164944"
            ]
          },
          "metadata": {},
          "execution_count": 277
        }
      ]
    },
    {
      "cell_type": "code",
      "source": [
        "df5=df5.dropna(subset=['Sold Price'])\n",
        "\n",
        "mean_value=df5['Type'].mean()\n",
        "df5['Type'].fillna(value=mean_value, inplace=True)\n",
        "\n",
        "mean_value=df5['Year built'].mean()\n",
        "df5['Year built'].fillna(value=mean_value, inplace=True)\n",
        "\n",
        "mean_value=df5['Bedrooms'].mean()\n",
        "df5['Bedrooms'].fillna(value=mean_value, inplace=True)\n",
        "\n",
        "mean_value=df5['Zip'].mean()\n",
        "df5['Zip'].fillna(value=mean_value, inplace=True)\n",
        "\n",
        "mean_value=df5['Flooring'].mean()\n",
        "df5['Flooring'].fillna(value=mean_value, inplace=True)\n",
        "\n",
        "df5=df5.dropna(subset=['Sold On'])"
      ],
      "metadata": {
        "colab": {
          "base_uri": "https://localhost:8080/"
        },
        "id": "gspBOG6yY5J6",
        "outputId": "164763a1-5ec9-4f94-b5d1-a7d2a1416214"
      },
      "execution_count": 278,
      "outputs": [
        {
          "output_type": "stream",
          "name": "stderr",
          "text": [
            "/usr/local/lib/python3.8/dist-packages/pandas/core/generic.py:6392: SettingWithCopyWarning: \n",
            "A value is trying to be set on a copy of a slice from a DataFrame\n",
            "\n",
            "See the caveats in the documentation: https://pandas.pydata.org/pandas-docs/stable/user_guide/indexing.html#returning-a-view-versus-a-copy\n",
            "  return self._update_inplace(result)\n"
          ]
        }
      ]
    },
    {
      "cell_type": "code",
      "source": [
        "len(df5)"
      ],
      "metadata": {
        "colab": {
          "base_uri": "https://localhost:8080/"
        },
        "id": "rbdr8YhWeoOM",
        "outputId": "c2a8a3c9-1646-478e-9124-459a7a64f308"
      },
      "execution_count": 279,
      "outputs": [
        {
          "output_type": "execute_result",
          "data": {
            "text/plain": [
              "115091"
            ]
          },
          "metadata": {},
          "execution_count": 279
        }
      ]
    },
    {
      "cell_type": "code",
      "source": [
        "train, test = split_data(df5, pd.Timestamp(2020, 1, 1))"
      ],
      "metadata": {
        "id": "kH5sqcNuYL2_"
      },
      "execution_count": 280,
      "outputs": []
    },
    {
      "cell_type": "code",
      "source": [
        "features = ['Type', 'Year built', 'Bedrooms','Zip','Flooring']\n",
        "X_train, y_train, X_test, y_test = prepare_train_test(train, test, features)"
      ],
      "metadata": {
        "id": "Wsv0o-pXYZU7"
      },
      "execution_count": 281,
      "outputs": []
    },
    {
      "cell_type": "code",
      "source": [
        "predictor = modeling(X_train, y_train, X_test, y_test)"
      ],
      "metadata": {
        "colab": {
          "base_uri": "https://localhost:8080/"
        },
        "id": "0mgiBULnYZKm",
        "outputId": "963bd88e-fefd-48e9-c50d-8b1f61efeb3d"
      },
      "execution_count": 282,
      "outputs": [
        {
          "output_type": "stream",
          "name": "stdout",
          "text": [
            "Starting training...\n",
            "[1]\tvalid_0's l2: 0.0842382\tvalid_0's l2: 0.0842382\n",
            "Training until validation scores don't improve for 5 rounds.\n",
            "[2]\tvalid_0's l2: 0.0805137\tvalid_0's l2: 0.0805137\n",
            "[3]\tvalid_0's l2: 0.0770614\tvalid_0's l2: 0.0770614\n",
            "[4]\tvalid_0's l2: 0.0743552\tvalid_0's l2: 0.0743552\n",
            "[5]\tvalid_0's l2: 0.0718488\tvalid_0's l2: 0.0718488\n",
            "[6]\tvalid_0's l2: 0.0691368\tvalid_0's l2: 0.0691368\n",
            "[7]\tvalid_0's l2: 0.0671653\tvalid_0's l2: 0.0671653\n",
            "[8]\tvalid_0's l2: 0.0646457\tvalid_0's l2: 0.0646457\n",
            "[9]\tvalid_0's l2: 0.0630227\tvalid_0's l2: 0.0630227\n",
            "[10]\tvalid_0's l2: 0.0612709\tvalid_0's l2: 0.0612709\n",
            "[11]\tvalid_0's l2: 0.0598032\tvalid_0's l2: 0.0598032\n",
            "[12]\tvalid_0's l2: 0.0581772\tvalid_0's l2: 0.0581772\n",
            "[13]\tvalid_0's l2: 0.056531\tvalid_0's l2: 0.056531\n",
            "[14]\tvalid_0's l2: 0.0554788\tvalid_0's l2: 0.0554788\n",
            "[15]\tvalid_0's l2: 0.054537\tvalid_0's l2: 0.054537\n",
            "[16]\tvalid_0's l2: 0.0532727\tvalid_0's l2: 0.0532727\n",
            "[17]\tvalid_0's l2: 0.0521159\tvalid_0's l2: 0.0521159\n",
            "[18]\tvalid_0's l2: 0.0512167\tvalid_0's l2: 0.0512167\n",
            "[19]\tvalid_0's l2: 0.0501954\tvalid_0's l2: 0.0501954\n",
            "[20]\tvalid_0's l2: 0.0495649\tvalid_0's l2: 0.0495649\n",
            "[21]\tvalid_0's l2: 0.0489203\tvalid_0's l2: 0.0489203\n",
            "[22]\tvalid_0's l2: 0.048434\tvalid_0's l2: 0.048434\n",
            "[23]\tvalid_0's l2: 0.0478558\tvalid_0's l2: 0.0478558\n",
            "[24]\tvalid_0's l2: 0.0474446\tvalid_0's l2: 0.0474446\n",
            "[25]\tvalid_0's l2: 0.0468308\tvalid_0's l2: 0.0468308\n",
            "[26]\tvalid_0's l2: 0.0464502\tvalid_0's l2: 0.0464502\n",
            "[27]\tvalid_0's l2: 0.0460922\tvalid_0's l2: 0.0460922\n",
            "[28]\tvalid_0's l2: 0.0456444\tvalid_0's l2: 0.0456444\n",
            "[29]\tvalid_0's l2: 0.0450799\tvalid_0's l2: 0.0450799\n",
            "[30]\tvalid_0's l2: 0.044747\tvalid_0's l2: 0.044747\n",
            "[31]\tvalid_0's l2: 0.0444442\tvalid_0's l2: 0.0444442\n",
            "[32]\tvalid_0's l2: 0.0441973\tvalid_0's l2: 0.0441973\n",
            "[33]\tvalid_0's l2: 0.0438961\tvalid_0's l2: 0.0438961\n",
            "[34]\tvalid_0's l2: 0.043626\tvalid_0's l2: 0.043626\n",
            "[35]\tvalid_0's l2: 0.0433927\tvalid_0's l2: 0.0433927\n",
            "[36]\tvalid_0's l2: 0.0430561\tvalid_0's l2: 0.0430561\n",
            "[37]\tvalid_0's l2: 0.0429082\tvalid_0's l2: 0.0429082\n",
            "[38]\tvalid_0's l2: 0.0427094\tvalid_0's l2: 0.0427094\n",
            "[39]\tvalid_0's l2: 0.0423853\tvalid_0's l2: 0.0423853\n",
            "[40]\tvalid_0's l2: 0.0422372\tvalid_0's l2: 0.0422372\n",
            "[41]\tvalid_0's l2: 0.0420337\tvalid_0's l2: 0.0420337\n",
            "[42]\tvalid_0's l2: 0.0418401\tvalid_0's l2: 0.0418401\n",
            "[43]\tvalid_0's l2: 0.0417182\tvalid_0's l2: 0.0417182\n",
            "[44]\tvalid_0's l2: 0.0414389\tvalid_0's l2: 0.0414389\n",
            "[45]\tvalid_0's l2: 0.0412895\tvalid_0's l2: 0.0412895\n",
            "[46]\tvalid_0's l2: 0.0411452\tvalid_0's l2: 0.0411452\n",
            "[47]\tvalid_0's l2: 0.0410636\tvalid_0's l2: 0.0410636\n",
            "[48]\tvalid_0's l2: 0.0408435\tvalid_0's l2: 0.0408435\n",
            "[49]\tvalid_0's l2: 0.0406991\tvalid_0's l2: 0.0406991\n",
            "[50]\tvalid_0's l2: 0.040601\tvalid_0's l2: 0.040601\n",
            "[51]\tvalid_0's l2: 0.0404324\tvalid_0's l2: 0.0404324\n",
            "[52]\tvalid_0's l2: 0.0403367\tvalid_0's l2: 0.0403367\n",
            "[53]\tvalid_0's l2: 0.040279\tvalid_0's l2: 0.040279\n",
            "[54]\tvalid_0's l2: 0.0400452\tvalid_0's l2: 0.0400452\n",
            "[55]\tvalid_0's l2: 0.0399696\tvalid_0's l2: 0.0399696\n",
            "[56]\tvalid_0's l2: 0.039829\tvalid_0's l2: 0.039829\n",
            "[57]\tvalid_0's l2: 0.0396381\tvalid_0's l2: 0.0396381\n",
            "[58]\tvalid_0's l2: 0.0395138\tvalid_0's l2: 0.0395138\n",
            "[59]\tvalid_0's l2: 0.0394594\tvalid_0's l2: 0.0394594\n",
            "[60]\tvalid_0's l2: 0.0393308\tvalid_0's l2: 0.0393308\n",
            "[61]\tvalid_0's l2: 0.03926\tvalid_0's l2: 0.03926\n",
            "[62]\tvalid_0's l2: 0.0390902\tvalid_0's l2: 0.0390902\n",
            "[63]\tvalid_0's l2: 0.0390049\tvalid_0's l2: 0.0390049\n",
            "[64]\tvalid_0's l2: 0.0389108\tvalid_0's l2: 0.0389108\n",
            "[65]\tvalid_0's l2: 0.0387655\tvalid_0's l2: 0.0387655\n",
            "[66]\tvalid_0's l2: 0.0387002\tvalid_0's l2: 0.0387002\n",
            "[67]\tvalid_0's l2: 0.0386815\tvalid_0's l2: 0.0386815\n",
            "[68]\tvalid_0's l2: 0.0386484\tvalid_0's l2: 0.0386484\n",
            "[69]\tvalid_0's l2: 0.0385858\tvalid_0's l2: 0.0385858\n",
            "[70]\tvalid_0's l2: 0.0385189\tvalid_0's l2: 0.0385189\n",
            "[71]\tvalid_0's l2: 0.0384944\tvalid_0's l2: 0.0384944\n",
            "[72]\tvalid_0's l2: 0.0384397\tvalid_0's l2: 0.0384397\n",
            "[73]\tvalid_0's l2: 0.0383481\tvalid_0's l2: 0.0383481\n",
            "[74]\tvalid_0's l2: 0.0381862\tvalid_0's l2: 0.0381862\n",
            "[75]\tvalid_0's l2: 0.0381454\tvalid_0's l2: 0.0381454\n",
            "[76]\tvalid_0's l2: 0.0379362\tvalid_0's l2: 0.0379362\n",
            "[77]\tvalid_0's l2: 0.0378942\tvalid_0's l2: 0.0378942\n",
            "[78]\tvalid_0's l2: 0.0377422\tvalid_0's l2: 0.0377422\n",
            "[79]\tvalid_0's l2: 0.0376036\tvalid_0's l2: 0.0376036\n",
            "[80]\tvalid_0's l2: 0.0375553\tvalid_0's l2: 0.0375553\n",
            "[81]\tvalid_0's l2: 0.0374055\tvalid_0's l2: 0.0374055\n",
            "[82]\tvalid_0's l2: 0.0373097\tvalid_0's l2: 0.0373097\n",
            "[83]\tvalid_0's l2: 0.0372816\tvalid_0's l2: 0.0372816\n",
            "[84]\tvalid_0's l2: 0.0372156\tvalid_0's l2: 0.0372156\n",
            "[85]\tvalid_0's l2: 0.0371146\tvalid_0's l2: 0.0371146\n",
            "[86]\tvalid_0's l2: 0.0370193\tvalid_0's l2: 0.0370193\n",
            "[87]\tvalid_0's l2: 0.0370016\tvalid_0's l2: 0.0370016\n",
            "[88]\tvalid_0's l2: 0.0369624\tvalid_0's l2: 0.0369624\n",
            "[89]\tvalid_0's l2: 0.0368412\tvalid_0's l2: 0.0368412\n",
            "[90]\tvalid_0's l2: 0.0368106\tvalid_0's l2: 0.0368106\n",
            "[91]\tvalid_0's l2: 0.0368027\tvalid_0's l2: 0.0368027\n",
            "[92]\tvalid_0's l2: 0.036775\tvalid_0's l2: 0.036775\n",
            "[93]\tvalid_0's l2: 0.036763\tvalid_0's l2: 0.036763\n",
            "[94]\tvalid_0's l2: 0.0366701\tvalid_0's l2: 0.0366701\n",
            "[95]\tvalid_0's l2: 0.036647\tvalid_0's l2: 0.036647\n",
            "[96]\tvalid_0's l2: 0.0366252\tvalid_0's l2: 0.0366252\n",
            "[97]\tvalid_0's l2: 0.0366038\tvalid_0's l2: 0.0366038\n",
            "[98]\tvalid_0's l2: 0.0365816\tvalid_0's l2: 0.0365816\n",
            "[99]\tvalid_0's l2: 0.036558\tvalid_0's l2: 0.036558\n",
            "[100]\tvalid_0's l2: 0.036486\tvalid_0's l2: 0.036486\n",
            "Did not meet early stopping. Best iteration is:\n",
            "[100]\tvalid_0's l2: 0.036486\tvalid_0's l2: 0.036486\n",
            "Starting predicting...\n",
            "The RMSE of prediction is: 0.19101312026171277\n"
          ]
        }
      ]
    },
    {
      "cell_type": "code",
      "source": [
        "lgb.plot_importance(predictor)"
      ],
      "metadata": {
        "colab": {
          "base_uri": "https://localhost:8080/",
          "height": 312
        },
        "id": "E8fWG0KzZxyO",
        "outputId": "65469f9a-c5f5-4a7d-9872-d37ad4147b80"
      },
      "execution_count": 283,
      "outputs": [
        {
          "output_type": "execute_result",
          "data": {
            "text/plain": [
              "<matplotlib.axes._subplots.AxesSubplot at 0x7f15bcd2bac0>"
            ]
          },
          "metadata": {},
          "execution_count": 283
        },
        {
          "output_type": "display_data",
          "data": {
            "text/plain": [
              "<Figure size 432x288 with 1 Axes>"
            ],
            "image/png": "[encoded data removed]"
          },
          "metadata": {
            "needs_background": "light"
          }
        }
      ]
    },
    {
      "cell_type": "markdown",
      "source": [
        "**End Of Fourth Attempt:**\n",
        "FINAL RMSE VALUE OF 0.19101312026171277\n"
      ],
      "metadata": {
        "id": "KxLN0JGbZzEc"
      }
    },
    {
      "cell_type": "markdown",
      "source": [
        "**Final Summary:**\n",
        "----------------------------\n",
        "\n",
        "In our first attempt at this experiment, all we did was add five more categories to the data frame used to create the train and test data. These categories included Cooling, Heating, Parking, HighSchoolDistrict, and Zipcode. Since most of these were categorical data, we had to convert the values into integer or float types. We first categorized the data and only kept the values in the data frame that were in the top 5 or 6 categories for every column. For example, there were thousands of data entries where the cooling system was that of \"Central Air\" so we deicded to keep those entries and remove entries whose cooling system was only present a handful of times. After doing this, we converted every category into an integer value ussually ranging 1-6 in order to be able to use that data for later RMSE testing. We then removed any rows that had an NA value in any column, leaving 13,033 entries that we deemed usable for RMSE testing. Hence, we began the RMSE test with the standard split data time stamp of 1/1/2021. The program calculated an RMSE value of aprox. 0.15 which is over .1 less than the starting RMSE value. However, we still wanted to branch out and do what we could to acheive an even lower RMSE value.\n",
        "\n",
        "The next two attempts we did were experiments of different methods of data cleaning and column adding in order to make our predictor better and output a lower RMSE value. In attempt two, we only included columns Sold Price, Sold On, Year built, Bedrooms, Cooling, Parking, and Zip as our graph in attempt one showed that those columns were the most helpful in training our predictor. We also filled every NA value in every row with 0 instead of removing the rows all together. These methods allowed us to have 37800 rows of data instead of the 13033 rows of data we had in our first attempt. Sadly, even with these new methods of data cleaning, we recieved an RMSE value of 0.1716806776347261, which was lower than what we recieved in our first attempt.\n",
        "\n",
        "Saddened by the outcome, we decided to keep attempt three much simpler and only change two things from the first attempt. All we did was change every NA value in every row to 0 and set the timestamp to 4/1/2020. This left us with 17531 rows of data to work with. We were then presented with an RMSE value of\n",
        "0.1508279943760018. While this value was lower than that in our second attempt, it still is not the best RMSE value we obtained.\n",
        "\n",
        "In attempt four, we did many different versions of data cleaning. We only contained columns Sold Price, Sold On, Year built, Bedrooms, Zip, and Flooring. Including flooring allowed for a new column of data which contained over 2,000 non-estimated values. We then filled every column's NA values, except for Sold Price and and Sold On, with the average value of the column. We then removed every row that contained an NA value in either column Sold Price or Sold On. We also changed the timestamp for the predicitor to 4/1/2020. This left us with 115091 full rows of data for our predictor to use to learn. However, even after all of our attempts at data cleaning, we were left with an RMSE value of \n",
        "0.19101312026171277, our worst so far.\n",
        "\n",
        "In the end, this project taught us both a lot about data cleaning and that too much data cleaning can sometimes be a bad thing. We also learned many python coding tricks such as categorizing values in a data frame column and changing NA values in a column into the average of the columns other values. While we were unable to produce an RMSE value lower than 0.1, we were proud to have lowered the original RMSE by as much as we did. Starting from an RMSE value of 0.25932023967250384 and ending with an RMSE value 0.14890043804776348 is definetly nothing to be ashamed of, even if a lot of our attempts to further lower the RMSE value were unsuccesful."
      ],
      "metadata": {
        "id": "r4G4tw8dbLLh"
      }
    },
    {
      "cell_type": "markdown",
      "source": [
        "**Credits**\n",
        "----------------------------\n",
        "Project completed by Max Steffen and Jake Konrad on 2/19/2023 over the span of two weeks.\n",
        "\n",
        "Special thanks to Keke Chen for assisting us along the way."
      ],
      "metadata": {
        "id": "1eH926j53HGz"
      }
    }
  ],
  "metadata": {
    "colab": {
      "provenance": []
    },
    "kernelspec": {
      "display_name": "Python 3",
      "language": "python",
      "name": "python3"
    },
    "language_info": {
      "codemirror_mode": {
        "name": "ipython",
        "version": 3
      },
      "file_extension": ".py",
      "mimetype": "text/x-python",
      "name": "python",
      "nbconvert_exporter": "python",
      "pygments_lexer": "ipython3",
      "version": "3.9.13"
    },
    "toc": {
      "base_numbering": 1,
      "nav_menu": {},
      "number_sections": true,
      "sideBar": true,
      "skip_h1_title": true,
      "title_cell": "Table of Contents",
      "title_sidebar": "Contents",
      "toc_cell": false,
      "toc_position": {},
      "toc_section_display": true,
      "toc_window_display": false
    }
  },
  "nbformat": 4,
  "nbformat_minor": 0
}